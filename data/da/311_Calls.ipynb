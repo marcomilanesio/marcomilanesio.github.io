{
 "cells": [
  {
   "cell_type": "markdown",
   "id": "f2a3fa99",
   "metadata": {},
   "source": [
    "### 311 Calls in NYC\n",
    "\n",
    "Note: a smaller version of the dataset has been provided. Make sure to have it downloaded in the cwd.\n",
    "\n",
    "If you want to download the full dataset (~41M rows) you can do it [here](https://data.cityofnewyork.us/Social-Services/311-Service-Requests-from-2010-to-Present/erm2-nwe9/about_data)"
   ]
  },
  {
   "cell_type": "code",
   "execution_count": 1,
   "id": "9f432cca",
   "metadata": {},
   "outputs": [],
   "source": [
    "import pandas as pd\n",
    "import matplotlib.pyplot as plt\n",
    "%matplotlib inline\n",
    "\n",
    "plt.rcParams['figure.figsize'] = (15, 5)\n",
    "\n",
    "complaints = pd.read_csv('311_small.csv')  # we'll use the small version here"
   ]
  }
 ],
 "metadata": {
  "kernelspec": {
   "display_name": "Python 3 (ipykernel)",
   "language": "python",
   "name": "python3"
  },
  "language_info": {
   "codemirror_mode": {
    "name": "ipython",
    "version": 3
   },
   "file_extension": ".py",
   "mimetype": "text/x-python",
   "name": "python",
   "nbconvert_exporter": "python",
   "pygments_lexer": "ipython3",
   "version": "3.10.1"
  }
 },
 "nbformat": 4,
 "nbformat_minor": 5
}
