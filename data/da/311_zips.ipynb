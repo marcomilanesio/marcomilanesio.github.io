{
 "cells": [
  {
   "cell_type": "code",
   "execution_count": 139,
   "id": "78d00100",
   "metadata": {},
   "outputs": [
    {
     "name": "stderr",
     "output_type": "stream",
     "text": [
      "/var/folders/b3/cjvms6c10k77tgv6k_rw3jbh0000gn/T/ipykernel_46729/3730440412.py:5: DtypeWarning: Columns (31,32,34,35,36,37) have mixed types. Specify dtype option on import or set low_memory=False.\n",
      "  df = pd.read_csv('./data/311_calls_small_almost_cleaned.csv')\n"
     ]
    },
    {
     "data": {
      "text/plain": [
       "89526"
      ]
     },
     "execution_count": 139,
     "metadata": {},
     "output_type": "execute_result"
    }
   ],
   "source": [
    "import pandas as pd\n",
    "import numpy as np\n",
    "import re\n",
    "\n",
    "df = pd.read_csv('./data/311_calls_small_almost_cleaned.csv')\n",
    "show_progress = lambda: df['Incident Zip'].isna().sum()\n",
    "\n",
    "place_desc = ['Borough', 'Incident Zip',\n",
    "       'Incident Address', 'Street Name', 'Cross Street 1', 'Cross Street 2',\n",
    "       'Intersection Street 1', 'Intersection Street 2', 'Address Type',\n",
    "       'City', 'Landmark', 'Facility Type']\n",
    "\n",
    "show_progress()"
   ]
  },
  {
   "cell_type": "code",
   "execution_count": 140,
   "id": "175f3d1c",
   "metadata": {},
   "outputs": [
    {
     "data": {
      "text/html": [
       "<div>\n",
       "<style scoped>\n",
       "    .dataframe tbody tr th:only-of-type {\n",
       "        vertical-align: middle;\n",
       "    }\n",
       "\n",
       "    .dataframe tbody tr th {\n",
       "        vertical-align: top;\n",
       "    }\n",
       "\n",
       "    .dataframe thead th {\n",
       "        text-align: right;\n",
       "    }\n",
       "</style>\n",
       "<table border=\"1\" class=\"dataframe\">\n",
       "  <thead>\n",
       "    <tr style=\"text-align: right;\">\n",
       "      <th></th>\n",
       "      <th>Borough</th>\n",
       "      <th>Incident Zip</th>\n",
       "      <th>Incident Address</th>\n",
       "      <th>Street Name</th>\n",
       "      <th>Cross Street 1</th>\n",
       "      <th>Cross Street 2</th>\n",
       "      <th>Intersection Street 1</th>\n",
       "      <th>Intersection Street 2</th>\n",
       "      <th>Address Type</th>\n",
       "      <th>City</th>\n",
       "      <th>Landmark</th>\n",
       "      <th>Facility Type</th>\n",
       "    </tr>\n",
       "  </thead>\n",
       "  <tbody>\n",
       "    <tr>\n",
       "      <th>0</th>\n",
       "      <td>BROOKLYN</td>\n",
       "      <td>11226.0</td>\n",
       "      <td>2709 CLARENDON ROAD</td>\n",
       "      <td>CLARENDON ROAD</td>\n",
       "      <td>NaN</td>\n",
       "      <td>NaN</td>\n",
       "      <td>NaN</td>\n",
       "      <td>NaN</td>\n",
       "      <td>ADDRESS</td>\n",
       "      <td>BROOKLYN</td>\n",
       "      <td>NaN</td>\n",
       "      <td>NaN</td>\n",
       "    </tr>\n",
       "    <tr>\n",
       "      <th>1</th>\n",
       "      <td>Unspecified</td>\n",
       "      <td>NaN</td>\n",
       "      <td>NaN</td>\n",
       "      <td>NaN</td>\n",
       "      <td>NaN</td>\n",
       "      <td>NaN</td>\n",
       "      <td>NaN</td>\n",
       "      <td>NaN</td>\n",
       "      <td>NaN</td>\n",
       "      <td>NaN</td>\n",
       "      <td>NaN</td>\n",
       "      <td>NaN</td>\n",
       "    </tr>\n",
       "    <tr>\n",
       "      <th>2</th>\n",
       "      <td>BROOKLYN</td>\n",
       "      <td>11211.0</td>\n",
       "      <td>201 SOUTH 4 STREET</td>\n",
       "      <td>SOUTH 4 STREET</td>\n",
       "      <td>SOUTH 5 PLACE</td>\n",
       "      <td>ROEBLING STREET</td>\n",
       "      <td>NaN</td>\n",
       "      <td>NaN</td>\n",
       "      <td>ADDRESS</td>\n",
       "      <td>BROOKLYN</td>\n",
       "      <td>NaN</td>\n",
       "      <td>NaN</td>\n",
       "    </tr>\n",
       "    <tr>\n",
       "      <th>3</th>\n",
       "      <td>MANHATTAN</td>\n",
       "      <td>10032.0</td>\n",
       "      <td>533 WEST 158 STREET</td>\n",
       "      <td>WEST 158 STREET</td>\n",
       "      <td>AMSTERDAM AVENUE</td>\n",
       "      <td>BROADWAY</td>\n",
       "      <td>NaN</td>\n",
       "      <td>NaN</td>\n",
       "      <td>ADDRESS</td>\n",
       "      <td>NEW YORK</td>\n",
       "      <td>NaN</td>\n",
       "      <td>NaN</td>\n",
       "    </tr>\n",
       "    <tr>\n",
       "      <th>4</th>\n",
       "      <td>STATEN ISLAND</td>\n",
       "      <td>10303.0</td>\n",
       "      <td>6 MACORMAC PLACE</td>\n",
       "      <td>MACORMAC PLACE</td>\n",
       "      <td>NORTHFIELD AVENUE</td>\n",
       "      <td>HOLLAND AVENUE</td>\n",
       "      <td>NaN</td>\n",
       "      <td>NaN</td>\n",
       "      <td>ADDRESS</td>\n",
       "      <td>STATEN ISLAND</td>\n",
       "      <td>NaN</td>\n",
       "      <td>NaN</td>\n",
       "    </tr>\n",
       "  </tbody>\n",
       "</table>\n",
       "</div>"
      ],
      "text/plain": [
       "         Borough  Incident Zip     Incident Address      Street Name  \\\n",
       "0       BROOKLYN       11226.0  2709 CLARENDON ROAD   CLARENDON ROAD   \n",
       "1    Unspecified           NaN                  NaN              NaN   \n",
       "2       BROOKLYN       11211.0   201 SOUTH 4 STREET   SOUTH 4 STREET   \n",
       "3      MANHATTAN       10032.0  533 WEST 158 STREET  WEST 158 STREET   \n",
       "4  STATEN ISLAND       10303.0     6 MACORMAC PLACE   MACORMAC PLACE   \n",
       "\n",
       "      Cross Street 1   Cross Street 2 Intersection Street 1  \\\n",
       "0                NaN              NaN                   NaN   \n",
       "1                NaN              NaN                   NaN   \n",
       "2      SOUTH 5 PLACE  ROEBLING STREET                   NaN   \n",
       "3   AMSTERDAM AVENUE         BROADWAY                   NaN   \n",
       "4  NORTHFIELD AVENUE   HOLLAND AVENUE                   NaN   \n",
       "\n",
       "  Intersection Street 2 Address Type           City Landmark Facility Type  \n",
       "0                   NaN      ADDRESS       BROOKLYN      NaN           NaN  \n",
       "1                   NaN          NaN            NaN      NaN           NaN  \n",
       "2                   NaN      ADDRESS       BROOKLYN      NaN           NaN  \n",
       "3                   NaN      ADDRESS       NEW YORK      NaN           NaN  \n",
       "4                   NaN      ADDRESS  STATEN ISLAND      NaN           NaN  "
      ]
     },
     "execution_count": 140,
     "metadata": {},
     "output_type": "execute_result"
    }
   ],
   "source": [
    "df[place_desc].head()"
   ]
  },
  {
   "cell_type": "code",
   "execution_count": 141,
   "id": "4d9dcb1c",
   "metadata": {},
   "outputs": [],
   "source": [
    "bu = df['Borough'] == 'Unspecified'\n",
    "df.loc[bu, 'Borough'] = np.nan"
   ]
  },
  {
   "cell_type": "code",
   "execution_count": 142,
   "id": "4abf3090",
   "metadata": {},
   "outputs": [
    {
     "data": {
      "text/plain": [
       "array(['BROOKLYN', nan, 'MANHATTAN', 'STATEN ISLAND', 'BRONX', 'QUEENS'],\n",
       "      dtype=object)"
      ]
     },
     "execution_count": 142,
     "metadata": {},
     "output_type": "execute_result"
    }
   ],
   "source": [
    "df['Borough'].unique()"
   ]
  },
  {
   "cell_type": "code",
   "execution_count": 143,
   "id": "499e48e4",
   "metadata": {},
   "outputs": [
    {
     "data": {
      "text/plain": [
       "18600"
      ]
     },
     "execution_count": 143,
     "metadata": {},
     "output_type": "execute_result"
    }
   ],
   "source": [
    "df['Borough'].isna().sum()"
   ]
  },
  {
   "cell_type": "code",
   "execution_count": 144,
   "id": "49c8a581",
   "metadata": {},
   "outputs": [
    {
     "name": "stdout",
     "output_type": "stream",
     "text": [
      "Borough               : 1.86%\n",
      "Incident Zip          : 8.95%\n",
      "Incident Address      : 14.45%\n",
      "Street Name           : 14.45%\n",
      "Cross Street 1        : 46.77%\n",
      "Cross Street 2        : 46.97%\n",
      "Intersection Street 1 : 87.54%\n",
      "Intersection Street 2 : 87.56%\n",
      "Address Type          : 8.37%\n",
      "City                  : 8.91%\n",
      "Landmark              : 98.91%\n",
      "Facility Type         : 72.09%\n"
     ]
    }
   ],
   "source": [
    "for col in place_desc:\n",
    "    print(f'{col:<22}: {(df[col].isna().sum() / df.shape[0]):.2%}')"
   ]
  },
  {
   "cell_type": "code",
   "execution_count": 145,
   "id": "50985105",
   "metadata": {},
   "outputs": [],
   "source": [
    "is_brooklyn = lambda: df['Borough'] == 'BROOKLYN'   # \"live\" masks\n",
    "is_staten = lambda: df['Borough'] == 'STATEN ISLAND'\n",
    "is_bronx = lambda: df['Borough'] == 'BRONX'\n",
    "is_manhattan = lambda: df['Borough'] == 'MANHATTAN'\n",
    "is_queens = lambda: df['Borough'] == 'QUEENS'"
   ]
  },
  {
   "cell_type": "code",
   "execution_count": 146,
   "id": "85e2b4d2",
   "metadata": {},
   "outputs": [
    {
     "data": {
      "text/html": [
       "<div>\n",
       "<style scoped>\n",
       "    .dataframe tbody tr th:only-of-type {\n",
       "        vertical-align: middle;\n",
       "    }\n",
       "\n",
       "    .dataframe tbody tr th {\n",
       "        vertical-align: top;\n",
       "    }\n",
       "\n",
       "    .dataframe thead th {\n",
       "        text-align: right;\n",
       "    }\n",
       "</style>\n",
       "<table border=\"1\" class=\"dataframe\">\n",
       "  <thead>\n",
       "    <tr style=\"text-align: right;\">\n",
       "      <th></th>\n",
       "      <th>Borough</th>\n",
       "      <th>Incident Zip</th>\n",
       "      <th>Incident Address</th>\n",
       "      <th>Street Name</th>\n",
       "      <th>Cross Street 1</th>\n",
       "      <th>Cross Street 2</th>\n",
       "      <th>Intersection Street 1</th>\n",
       "      <th>Intersection Street 2</th>\n",
       "      <th>Address Type</th>\n",
       "      <th>City</th>\n",
       "      <th>Landmark</th>\n",
       "      <th>Facility Type</th>\n",
       "    </tr>\n",
       "  </thead>\n",
       "  <tbody>\n",
       "    <tr>\n",
       "      <th>396356</th>\n",
       "      <td>BROOKLYN</td>\n",
       "      <td>NaN</td>\n",
       "      <td>481-483 .DEKALB AVE</td>\n",
       "      <td>.DEKALB AVE</td>\n",
       "      <td>NaN</td>\n",
       "      <td>NaN</td>\n",
       "      <td>NaN</td>\n",
       "      <td>NaN</td>\n",
       "      <td>NaN</td>\n",
       "      <td>NaN</td>\n",
       "      <td>NaN</td>\n",
       "      <td>NaN</td>\n",
       "    </tr>\n",
       "    <tr>\n",
       "      <th>455159</th>\n",
       "      <td>BROOKLYN</td>\n",
       "      <td>NaN</td>\n",
       "      <td>4821 1 AVENUE</td>\n",
       "      <td>1 AVENUE</td>\n",
       "      <td>NaN</td>\n",
       "      <td>NaN</td>\n",
       "      <td>NaN</td>\n",
       "      <td>NaN</td>\n",
       "      <td>NaN</td>\n",
       "      <td>NaN</td>\n",
       "      <td>NaN</td>\n",
       "      <td>NaN</td>\n",
       "    </tr>\n",
       "    <tr>\n",
       "      <th>551777</th>\n",
       "      <td>BROOKLYN</td>\n",
       "      <td>11232.0</td>\n",
       "      <td>4000 1 AVENUE</td>\n",
       "      <td>1 AVENUE</td>\n",
       "      <td>40 STREET</td>\n",
       "      <td>41 STREET</td>\n",
       "      <td>NaN</td>\n",
       "      <td>NaN</td>\n",
       "      <td>ADDRESS</td>\n",
       "      <td>BROOKLYN</td>\n",
       "      <td>NaN</td>\n",
       "      <td>Precinct</td>\n",
       "    </tr>\n",
       "    <tr>\n",
       "      <th>170575</th>\n",
       "      <td>BROOKLYN</td>\n",
       "      <td>11220.0</td>\n",
       "      <td>5401 1 AVENUE</td>\n",
       "      <td>1 AVENUE</td>\n",
       "      <td>54 STREET</td>\n",
       "      <td>55 STREET</td>\n",
       "      <td>54 STREET</td>\n",
       "      <td>55 STREET</td>\n",
       "      <td>NaN</td>\n",
       "      <td>BROOKLYN</td>\n",
       "      <td>1 AVENUE</td>\n",
       "      <td>NaN</td>\n",
       "    </tr>\n",
       "    <tr>\n",
       "      <th>669247</th>\n",
       "      <td>BROOKLYN</td>\n",
       "      <td>11220.0</td>\n",
       "      <td>5601 1 AVENUE</td>\n",
       "      <td>1 AVENUE</td>\n",
       "      <td>56 STREET</td>\n",
       "      <td>57 STREET</td>\n",
       "      <td>NaN</td>\n",
       "      <td>NaN</td>\n",
       "      <td>ADDRESS</td>\n",
       "      <td>BROOKLYN</td>\n",
       "      <td>NaN</td>\n",
       "      <td>NaN</td>\n",
       "    </tr>\n",
       "  </tbody>\n",
       "</table>\n",
       "</div>"
      ],
      "text/plain": [
       "         Borough  Incident Zip     Incident Address  Street Name  \\\n",
       "396356  BROOKLYN           NaN  481-483 .DEKALB AVE  .DEKALB AVE   \n",
       "455159  BROOKLYN           NaN        4821 1 AVENUE     1 AVENUE   \n",
       "551777  BROOKLYN       11232.0        4000 1 AVENUE     1 AVENUE   \n",
       "170575  BROOKLYN       11220.0        5401 1 AVENUE     1 AVENUE   \n",
       "669247  BROOKLYN       11220.0        5601 1 AVENUE     1 AVENUE   \n",
       "\n",
       "       Cross Street 1 Cross Street 2 Intersection Street 1  \\\n",
       "396356            NaN            NaN                   NaN   \n",
       "455159            NaN            NaN                   NaN   \n",
       "551777      40 STREET      41 STREET                   NaN   \n",
       "170575      54 STREET      55 STREET             54 STREET   \n",
       "669247      56 STREET      57 STREET                   NaN   \n",
       "\n",
       "       Intersection Street 2 Address Type      City  Landmark Facility Type  \n",
       "396356                   NaN          NaN       NaN       NaN           NaN  \n",
       "455159                   NaN          NaN       NaN       NaN           NaN  \n",
       "551777                   NaN      ADDRESS  BROOKLYN       NaN      Precinct  \n",
       "170575             55 STREET          NaN  BROOKLYN  1 AVENUE           NaN  \n",
       "669247                   NaN      ADDRESS  BROOKLYN       NaN           NaN  "
      ]
     },
     "execution_count": 146,
     "metadata": {},
     "output_type": "execute_result"
    }
   ],
   "source": [
    "df.loc[is_brooklyn(), place_desc].sort_values(by='Street Name').head()"
   ]
  },
  {
   "cell_type": "code",
   "execution_count": 147,
   "id": "be02eacb",
   "metadata": {},
   "outputs": [],
   "source": [
    "def uniform_names(x):\n",
    "    pt1 = re.compile(r'\\ ST\\.*$')\n",
    "    pt2 = re.compile(r'\\ AVE\\.*$')\n",
    "    pt3 = re.compile(r'\\ RD\\.*$')\n",
    "    pt4 = re.compile(r' \\ PL\\.*$')\n",
    "    pt5 = re.compile(r'\\w{3}')\n",
    "    try:\n",
    "        if re.search(pt1, x):\n",
    "            return re.sub(pt1, ' STREET', x).upper()\n",
    "        elif re.search(pt2, x):\n",
    "            return re.sub(pt2, ' AVENUE', x).upper()\n",
    "        elif re.search(pt3, x):\n",
    "            return re.sub(pt3, ' ROAD', x).upper()\n",
    "        elif re.search(pt4, x):\n",
    "            return re.sub(pt4, ' PLACE', x).upper()\n",
    "        elif not re.search(pt5, x):\n",
    "            return np.nan\n",
    "    except:\n",
    "        return x\n",
    "    return x\n"
   ]
  },
  {
   "cell_type": "code",
   "execution_count": 148,
   "id": "826a20f7",
   "metadata": {},
   "outputs": [],
   "source": [
    "street_cols = ['Incident Address', 'Street Name', 'Cross Street 1', 'Cross Street 2',\n",
    "       'Intersection Street 1', 'Intersection Street 2']\n",
    "for col in street_cols:\n",
    "    df[col] = df[col].apply(lambda x: uniform_names(x))\n",
    "    "
   ]
  },
  {
   "cell_type": "code",
   "execution_count": 149,
   "id": "57fa08ee",
   "metadata": {},
   "outputs": [
    {
     "data": {
      "text/html": [
       "<div>\n",
       "<style scoped>\n",
       "    .dataframe tbody tr th:only-of-type {\n",
       "        vertical-align: middle;\n",
       "    }\n",
       "\n",
       "    .dataframe tbody tr th {\n",
       "        vertical-align: top;\n",
       "    }\n",
       "\n",
       "    .dataframe thead th {\n",
       "        text-align: right;\n",
       "    }\n",
       "</style>\n",
       "<table border=\"1\" class=\"dataframe\">\n",
       "  <thead>\n",
       "    <tr style=\"text-align: right;\">\n",
       "      <th></th>\n",
       "      <th>Borough</th>\n",
       "      <th>Incident Zip</th>\n",
       "      <th>Incident Address</th>\n",
       "      <th>Street Name</th>\n",
       "      <th>Cross Street 1</th>\n",
       "      <th>Cross Street 2</th>\n",
       "      <th>Intersection Street 1</th>\n",
       "      <th>Intersection Street 2</th>\n",
       "      <th>Address Type</th>\n",
       "      <th>City</th>\n",
       "      <th>Landmark</th>\n",
       "      <th>Facility Type</th>\n",
       "    </tr>\n",
       "  </thead>\n",
       "  <tbody>\n",
       "    <tr>\n",
       "      <th>0</th>\n",
       "      <td>BROOKLYN</td>\n",
       "      <td>11226.0</td>\n",
       "      <td>2709 CLARENDON ROAD</td>\n",
       "      <td>CLARENDON ROAD</td>\n",
       "      <td>NaN</td>\n",
       "      <td>NaN</td>\n",
       "      <td>NaN</td>\n",
       "      <td>NaN</td>\n",
       "      <td>ADDRESS</td>\n",
       "      <td>BROOKLYN</td>\n",
       "      <td>NaN</td>\n",
       "      <td>NaN</td>\n",
       "    </tr>\n",
       "    <tr>\n",
       "      <th>1</th>\n",
       "      <td>NaN</td>\n",
       "      <td>NaN</td>\n",
       "      <td>NaN</td>\n",
       "      <td>NaN</td>\n",
       "      <td>NaN</td>\n",
       "      <td>NaN</td>\n",
       "      <td>NaN</td>\n",
       "      <td>NaN</td>\n",
       "      <td>NaN</td>\n",
       "      <td>NaN</td>\n",
       "      <td>NaN</td>\n",
       "      <td>NaN</td>\n",
       "    </tr>\n",
       "    <tr>\n",
       "      <th>2</th>\n",
       "      <td>BROOKLYN</td>\n",
       "      <td>11211.0</td>\n",
       "      <td>201 SOUTH 4 STREET</td>\n",
       "      <td>SOUTH 4 STREET</td>\n",
       "      <td>SOUTH 5 PLACE</td>\n",
       "      <td>ROEBLING STREET</td>\n",
       "      <td>NaN</td>\n",
       "      <td>NaN</td>\n",
       "      <td>ADDRESS</td>\n",
       "      <td>BROOKLYN</td>\n",
       "      <td>NaN</td>\n",
       "      <td>NaN</td>\n",
       "    </tr>\n",
       "    <tr>\n",
       "      <th>3</th>\n",
       "      <td>MANHATTAN</td>\n",
       "      <td>10032.0</td>\n",
       "      <td>533 WEST 158 STREET</td>\n",
       "      <td>WEST 158 STREET</td>\n",
       "      <td>AMSTERDAM AVENUE</td>\n",
       "      <td>BROADWAY</td>\n",
       "      <td>NaN</td>\n",
       "      <td>NaN</td>\n",
       "      <td>ADDRESS</td>\n",
       "      <td>NEW YORK</td>\n",
       "      <td>NaN</td>\n",
       "      <td>NaN</td>\n",
       "    </tr>\n",
       "    <tr>\n",
       "      <th>4</th>\n",
       "      <td>STATEN ISLAND</td>\n",
       "      <td>10303.0</td>\n",
       "      <td>6 MACORMAC PLACE</td>\n",
       "      <td>MACORMAC PLACE</td>\n",
       "      <td>NORTHFIELD AVENUE</td>\n",
       "      <td>HOLLAND AVENUE</td>\n",
       "      <td>NaN</td>\n",
       "      <td>NaN</td>\n",
       "      <td>ADDRESS</td>\n",
       "      <td>STATEN ISLAND</td>\n",
       "      <td>NaN</td>\n",
       "      <td>NaN</td>\n",
       "    </tr>\n",
       "  </tbody>\n",
       "</table>\n",
       "</div>"
      ],
      "text/plain": [
       "         Borough  Incident Zip     Incident Address      Street Name  \\\n",
       "0       BROOKLYN       11226.0  2709 CLARENDON ROAD   CLARENDON ROAD   \n",
       "1            NaN           NaN                  NaN              NaN   \n",
       "2       BROOKLYN       11211.0   201 SOUTH 4 STREET   SOUTH 4 STREET   \n",
       "3      MANHATTAN       10032.0  533 WEST 158 STREET  WEST 158 STREET   \n",
       "4  STATEN ISLAND       10303.0     6 MACORMAC PLACE   MACORMAC PLACE   \n",
       "\n",
       "      Cross Street 1   Cross Street 2 Intersection Street 1  \\\n",
       "0                NaN              NaN                   NaN   \n",
       "1                NaN              NaN                   NaN   \n",
       "2      SOUTH 5 PLACE  ROEBLING STREET                   NaN   \n",
       "3   AMSTERDAM AVENUE         BROADWAY                   NaN   \n",
       "4  NORTHFIELD AVENUE   HOLLAND AVENUE                   NaN   \n",
       "\n",
       "  Intersection Street 2 Address Type           City Landmark Facility Type  \n",
       "0                   NaN      ADDRESS       BROOKLYN      NaN           NaN  \n",
       "1                   NaN          NaN            NaN      NaN           NaN  \n",
       "2                   NaN      ADDRESS       BROOKLYN      NaN           NaN  \n",
       "3                   NaN      ADDRESS       NEW YORK      NaN           NaN  \n",
       "4                   NaN      ADDRESS  STATEN ISLAND      NaN           NaN  "
      ]
     },
     "execution_count": 149,
     "metadata": {},
     "output_type": "execute_result"
    }
   ],
   "source": [
    "df[place_desc].head()"
   ]
  },
  {
   "cell_type": "code",
   "execution_count": 150,
   "id": "3dc01ba2",
   "metadata": {},
   "outputs": [],
   "source": [
    "df.dropna(subset=place_desc, how='all', inplace=True)"
   ]
  },
  {
   "cell_type": "code",
   "execution_count": 151,
   "id": "61b94d94",
   "metadata": {},
   "outputs": [
    {
     "data": {
      "text/plain": [
       "75241"
      ]
     },
     "execution_count": 151,
     "metadata": {},
     "output_type": "execute_result"
    }
   ],
   "source": [
    "show_progress()"
   ]
  },
  {
   "cell_type": "code",
   "execution_count": 152,
   "id": "357dcc70",
   "metadata": {},
   "outputs": [],
   "source": [
    "dontuse = ['Address Type', 'City', 'Landmark', 'Facility Type']\n",
    "subset = [col for col in place_desc if col not in dontuse]\n",
    "\n",
    "def find_unique_zips(boro_mask, attr_list):\n",
    "    tmp = df.loc[boro_mask, place_desc].copy()   # snapshot per borough\n",
    "    tmp = tmp.drop_duplicates(subset=subset, keep='first')  # one instance per combination\n",
    "    tmp = tmp.dropna(subset=attr_list, how='any')  # drop any null value\n",
    "    \n",
    "    grouped = tmp.groupby(attr_list)['Incident Zip'].unique()  # pd.Series of np.arrays\n",
    "    grouped = grouped.apply(lambda x: x[~ np.isnan(x)] if np.isnan(x.sum()) else x)  # if it has one np.nan\n",
    "    flattened = ( grouped.apply(lambda x: x.flatten()[0] if # extract the float value..\n",
    "                    (isinstance(x, np.ndarray) and (x.size > 0)) \n",
    "                    else np.nan).dropna()  # ...and drop any null values remaining\n",
    "                )\n",
    "    return flattened"
   ]
  },
  {
   "cell_type": "code",
   "execution_count": 153,
   "id": "b14bc32a",
   "metadata": {},
   "outputs": [
    {
     "name": "stdout",
     "output_type": "stream",
     "text": [
      "('Incident Address', 'Street Name'): 22958 zips updated\n",
      "('Incident Address', 'Cross Street 1'): 8 zips updated\n",
      "('Incident Address', 'Cross Street 2'): 1 zips updated\n",
      "('Incident Address', 'Intersection Street 1'): 0 zips updated\n",
      "('Incident Address', 'Intersection Street 2'): 0 zips updated\n",
      "('Street Name', 'Cross Street 1'): 390 zips updated\n",
      "('Street Name', 'Cross Street 2'): 33 zips updated\n",
      "('Street Name', 'Intersection Street 1'): 16 zips updated\n",
      "('Street Name', 'Intersection Street 2'): 1 zips updated\n",
      "('Cross Street 1', 'Cross Street 2'): 1164 zips updated\n",
      "('Cross Street 1', 'Intersection Street 1'): 2709 zips updated\n",
      "('Cross Street 1', 'Intersection Street 2'): 32 zips updated\n",
      "('Cross Street 2', 'Intersection Street 1'): 53 zips updated\n",
      "('Cross Street 2', 'Intersection Street 2'): 1316 zips updated\n",
      "('Intersection Street 1', 'Intersection Street 2'): 3091 zips updated\n"
     ]
    }
   ],
   "source": [
    "street_attrs = ['Incident Address', 'Street Name', 'Cross Street 1', 'Cross Street 2',\n",
    " 'Intersection Street 1', 'Intersection Street 2']\n",
    "\n",
    "from itertools import combinations\n",
    "for pair in list(combinations(street_attrs, 2)):\n",
    "    old = show_progress()\n",
    "    attr_list = ['Borough'] + list(pair)\n",
    "    for boro_mask in [is_brooklyn, is_bronx, is_queens, is_manhattan, is_staten]:\n",
    "        flat = find_unique_zips(boro_mask(), attr_list)\n",
    "        flat = flat.reset_index().set_index(attr_list) \n",
    "        if not flat.dropna().empty:\n",
    "            df = df.set_index(attr_list)   # align the indexes\n",
    "            df.update(flat)\n",
    "            df = df.reset_index()\n",
    "    print(f'{pair}: {old - show_progress()} zips updated')\n",
    "        "
   ]
  },
  {
   "cell_type": "code",
   "execution_count": 154,
   "id": "519a12e2",
   "metadata": {},
   "outputs": [
    {
     "data": {
      "text/plain": [
       "43469"
      ]
     },
     "execution_count": 154,
     "metadata": {},
     "output_type": "execute_result"
    }
   ],
   "source": [
    "show_progress()"
   ]
  },
  {
   "cell_type": "code",
   "execution_count": 156,
   "id": "cb3adc6f",
   "metadata": {},
   "outputs": [],
   "source": [
    "df.to_csv('./data/311_calls_Take2.csv', index=False)"
   ]
  }
 ],
 "metadata": {
  "kernelspec": {
   "display_name": "Python 3 (ipykernel)",
   "language": "python",
   "name": "python3"
  },
  "language_info": {
   "codemirror_mode": {
    "name": "ipython",
    "version": 3
   },
   "file_extension": ".py",
   "mimetype": "text/x-python",
   "name": "python",
   "nbconvert_exporter": "python",
   "pygments_lexer": "ipython3",
   "version": "3.10.1"
  }
 },
 "nbformat": 4,
 "nbformat_minor": 5
}
