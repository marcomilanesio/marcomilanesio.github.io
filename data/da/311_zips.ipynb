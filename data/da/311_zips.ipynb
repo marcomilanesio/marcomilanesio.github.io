{
 "cells": [
  {
   "cell_type": "code",
   "execution_count": 1,
   "id": "78d00100",
   "metadata": {},
   "outputs": [
    {
     "name": "stderr",
     "output_type": "stream",
     "text": [
      "/var/folders/b3/cjvms6c10k77tgv6k_rw3jbh0000gn/T/ipykernel_46729/3730440412.py:5: DtypeWarning: Columns (31,32,34,35,36,37) have mixed types. Specify dtype option on import or set low_memory=False.\n",
      "  df = pd.read_csv('./data/311_calls_small_almost_cleaned.csv')\n"
     ]
    },
    {
     "data": {
      "text/plain": [
       "89526"
      ]
     },
     "execution_count": 1,
     "metadata": {},
     "output_type": "execute_result"
    }
   ],
   "source": [
    "import pandas as pd\n",
    "import numpy as np\n",
    "import re\n",
    "\n",
    "df = pd.read_csv('./data/311_calls_small_almost_cleaned.csv')\n",
    "show_progress = lambda: df['Incident Zip'].isna().sum()\n",
    "\n",
    "place_desc = ['Borough', 'Incident Zip',\n",
    "       'Incident Address', 'Street Name', 'Cross Street 1', 'Cross Street 2',\n",
    "       'Intersection Street 1', 'Intersection Street 2', 'Address Type',\n",
    "       'City', 'Landmark', 'Facility Type']\n",
    "\n",
    "show_progress()"
   ]
  },
  {
   "cell_type": "code",
   "execution_count": 2,
   "id": "48c682e3",
   "metadata": {},
   "outputs": [
    {
     "data": {
      "text/html": [
       "<div>\n",
       "<style scoped>\n",
       "    .dataframe tbody tr th:only-of-type {\n",
       "        vertical-align: middle;\n",
       "    }\n",
       "\n",
       "    .dataframe tbody tr th {\n",
       "        vertical-align: top;\n",
       "    }\n",
       "\n",
       "    .dataframe thead th {\n",
       "        text-align: right;\n",
       "    }\n",
       "</style>\n",
       "<table border=\"1\" class=\"dataframe\">\n",
       "  <thead>\n",
       "    <tr style=\"text-align: right;\">\n",
       "      <th></th>\n",
       "      <th>Borough</th>\n",
       "      <th>Incident Zip</th>\n",
       "      <th>Incident Address</th>\n",
       "      <th>Street Name</th>\n",
       "      <th>Cross Street 1</th>\n",
       "      <th>Cross Street 2</th>\n",
       "      <th>Intersection Street 1</th>\n",
       "      <th>Intersection Street 2</th>\n",
       "      <th>Address Type</th>\n",
       "      <th>City</th>\n",
       "      <th>Landmark</th>\n",
       "      <th>Facility Type</th>\n",
       "    </tr>\n",
       "  </thead>\n",
       "  <tbody>\n",
       "    <tr>\n",
       "      <th>0</th>\n",
       "      <td>BROOKLYN</td>\n",
       "      <td>11226.0</td>\n",
       "      <td>2709 CLARENDON ROAD</td>\n",
       "      <td>CLARENDON ROAD</td>\n",
       "      <td>NaN</td>\n",
       "      <td>NaN</td>\n",
       "      <td>NaN</td>\n",
       "      <td>NaN</td>\n",
       "      <td>ADDRESS</td>\n",
       "      <td>BROOKLYN</td>\n",
       "      <td>NaN</td>\n",
       "      <td>NaN</td>\n",
       "    </tr>\n",
       "    <tr>\n",
       "      <th>1</th>\n",
       "      <td>Unspecified</td>\n",
       "      <td>NaN</td>\n",
       "      <td>NaN</td>\n",
       "      <td>NaN</td>\n",
       "      <td>NaN</td>\n",
       "      <td>NaN</td>\n",
       "      <td>NaN</td>\n",
       "      <td>NaN</td>\n",
       "      <td>NaN</td>\n",
       "      <td>NaN</td>\n",
       "      <td>NaN</td>\n",
       "      <td>NaN</td>\n",
       "    </tr>\n",
       "    <tr>\n",
       "      <th>2</th>\n",
       "      <td>BROOKLYN</td>\n",
       "      <td>11211.0</td>\n",
       "      <td>201 SOUTH 4 STREET</td>\n",
       "      <td>SOUTH 4 STREET</td>\n",
       "      <td>SOUTH 5 PLACE</td>\n",
       "      <td>ROEBLING STREET</td>\n",
       "      <td>NaN</td>\n",
       "      <td>NaN</td>\n",
       "      <td>ADDRESS</td>\n",
       "      <td>BROOKLYN</td>\n",
       "      <td>NaN</td>\n",
       "      <td>NaN</td>\n",
       "    </tr>\n",
       "    <tr>\n",
       "      <th>3</th>\n",
       "      <td>MANHATTAN</td>\n",
       "      <td>10032.0</td>\n",
       "      <td>533 WEST 158 STREET</td>\n",
       "      <td>WEST 158 STREET</td>\n",
       "      <td>AMSTERDAM AVENUE</td>\n",
       "      <td>BROADWAY</td>\n",
       "      <td>NaN</td>\n",
       "      <td>NaN</td>\n",
       "      <td>ADDRESS</td>\n",
       "      <td>NEW YORK</td>\n",
       "      <td>NaN</td>\n",
       "      <td>NaN</td>\n",
       "    </tr>\n",
       "    <tr>\n",
       "      <th>4</th>\n",
       "      <td>STATEN ISLAND</td>\n",
       "      <td>10303.0</td>\n",
       "      <td>6 MACORMAC PLACE</td>\n",
       "      <td>MACORMAC PLACE</td>\n",
       "      <td>NORTHFIELD AVENUE</td>\n",
       "      <td>HOLLAND AVENUE</td>\n",
       "      <td>NaN</td>\n",
       "      <td>NaN</td>\n",
       "      <td>ADDRESS</td>\n",
       "      <td>STATEN ISLAND</td>\n",
       "      <td>NaN</td>\n",
       "      <td>NaN</td>\n",
       "    </tr>\n",
       "  </tbody>\n",
       "</table>\n",
       "</div>"
      ],
      "text/plain": [
       "         Borough  Incident Zip     Incident Address      Street Name  \\\n",
       "0       BROOKLYN       11226.0  2709 CLARENDON ROAD   CLARENDON ROAD   \n",
       "1    Unspecified           NaN                  NaN              NaN   \n",
       "2       BROOKLYN       11211.0   201 SOUTH 4 STREET   SOUTH 4 STREET   \n",
       "3      MANHATTAN       10032.0  533 WEST 158 STREET  WEST 158 STREET   \n",
       "4  STATEN ISLAND       10303.0     6 MACORMAC PLACE   MACORMAC PLACE   \n",
       "\n",
       "      Cross Street 1   Cross Street 2 Intersection Street 1  \\\n",
       "0                NaN              NaN                   NaN   \n",
       "1                NaN              NaN                   NaN   \n",
       "2      SOUTH 5 PLACE  ROEBLING STREET                   NaN   \n",
       "3   AMSTERDAM AVENUE         BROADWAY                   NaN   \n",
       "4  NORTHFIELD AVENUE   HOLLAND AVENUE                   NaN   \n",
       "\n",
       "  Intersection Street 2 Address Type           City Landmark Facility Type  \n",
       "0                   NaN      ADDRESS       BROOKLYN      NaN           NaN  \n",
       "1                   NaN          NaN            NaN      NaN           NaN  \n",
       "2                   NaN      ADDRESS       BROOKLYN      NaN           NaN  \n",
       "3                   NaN      ADDRESS       NEW YORK      NaN           NaN  \n",
       "4                   NaN      ADDRESS  STATEN ISLAND      NaN           NaN  "
      ]
     },
     "execution_count": 2,
     "metadata": {},
     "output_type": "execute_result"
    }
   ],
   "source": [
    "df[place_desc].head()"
   ]
  },
  {
   "cell_type": "code",
   "execution_count": 3,
   "id": "a2dde65e",
   "metadata": {},
   "outputs": [],
   "source": [
    "bu = df['Borough'] == 'Unspecified'\n",
    "df.loc[bu, 'Borough'] = np.nan"
   ]
  },
  {
   "cell_type": "code",
   "execution_count": 11,
   "id": "2b9fbb2e",
   "metadata": {},
   "outputs": [
    {
     "data": {
      "text/plain": [
       "array(['BROOKLYN', nan, 'MANHATTAN', 'STATEN ISLAND', 'BRONX', 'QUEENS'],\n",
       "      dtype=object)"
      ]
     },
     "execution_count": 11,
     "metadata": {},
     "output_type": "execute_result"
    }
   ],
   "source": [
    "df['Borough'].unique()"
   ]
  },
  {
   "cell_type": "code",
   "execution_count": 5,
   "id": "d68ce735",
   "metadata": {},
   "outputs": [
    {
     "data": {
      "text/plain": [
       "18600"
      ]
     },
     "execution_count": 5,
     "metadata": {},
     "output_type": "execute_result"
    }
   ],
   "source": [
    "df['Borough'].isna().sum()"
   ]
  },
  {
   "cell_type": "code",
   "execution_count": 10,
   "id": "8051a3fb",
   "metadata": {},
   "outputs": [
    {
     "name": "stdout",
     "output_type": "stream",
     "text": [
      "Borough               : 1.86%\n",
      "Incident Zip          : 8.95%\n",
      "Incident Address      : 14.45%\n",
      "Street Name           : 14.45%\n",
      "Cross Street 1        : 46.77%\n",
      "Cross Street 2        : 46.97%\n",
      "Intersection Street 1 : 87.54%\n",
      "Intersection Street 2 : 87.56%\n",
      "Address Type          : 8.37%\n",
      "City                  : 8.91%\n",
      "Landmark              : 98.91%\n",
      "Facility Type         : 72.09%\n"
     ]
    }
   ],
   "source": [
    "for col in place_desc:\n",
    "    print(f'{col:<22}: {(df[col].isna().sum() / df.shape[0]):.2%}')"
   ]
  },
  {
   "cell_type": "code",
   "execution_count": 12,
   "id": "222f5c03",
   "metadata": {},
   "outputs": [],
   "source": [
    "is_brooklyn = lambda: df['Borough'] == 'BROOKLYN'\n",
    "is_staten = lambda: df['Borough'] == 'STATEN ISLAND'\n",
    "is_bronx = lambda: df['Borough'] == 'BRONX'\n",
    "is_manhattan = lambda: df['Borough'] == 'MANHATTAN'\n",
    "is_queens = lambda: df['Borough'] == 'QUEENS'"
   ]
  },
  {
   "cell_type": "code",
   "execution_count": 15,
   "id": "b03b3105",
   "metadata": {},
   "outputs": [
    {
     "data": {
      "text/html": [
       "<div>\n",
       "<style scoped>\n",
       "    .dataframe tbody tr th:only-of-type {\n",
       "        vertical-align: middle;\n",
       "    }\n",
       "\n",
       "    .dataframe tbody tr th {\n",
       "        vertical-align: top;\n",
       "    }\n",
       "\n",
       "    .dataframe thead th {\n",
       "        text-align: right;\n",
       "    }\n",
       "</style>\n",
       "<table border=\"1\" class=\"dataframe\">\n",
       "  <thead>\n",
       "    <tr style=\"text-align: right;\">\n",
       "      <th></th>\n",
       "      <th>Borough</th>\n",
       "      <th>Incident Zip</th>\n",
       "      <th>Incident Address</th>\n",
       "      <th>Street Name</th>\n",
       "      <th>Cross Street 1</th>\n",
       "      <th>Cross Street 2</th>\n",
       "      <th>Intersection Street 1</th>\n",
       "      <th>Intersection Street 2</th>\n",
       "      <th>Address Type</th>\n",
       "      <th>City</th>\n",
       "      <th>Landmark</th>\n",
       "      <th>Facility Type</th>\n",
       "    </tr>\n",
       "  </thead>\n",
       "  <tbody>\n",
       "    <tr>\n",
       "      <th>396356</th>\n",
       "      <td>BROOKLYN</td>\n",
       "      <td>NaN</td>\n",
       "      <td>481-483 .DEKALB AVE</td>\n",
       "      <td>.DEKALB AVE</td>\n",
       "      <td>NaN</td>\n",
       "      <td>NaN</td>\n",
       "      <td>NaN</td>\n",
       "      <td>NaN</td>\n",
       "      <td>NaN</td>\n",
       "      <td>NaN</td>\n",
       "      <td>NaN</td>\n",
       "      <td>NaN</td>\n",
       "    </tr>\n",
       "    <tr>\n",
       "      <th>455159</th>\n",
       "      <td>BROOKLYN</td>\n",
       "      <td>NaN</td>\n",
       "      <td>4821 1 AVENUE</td>\n",
       "      <td>1 AVENUE</td>\n",
       "      <td>NaN</td>\n",
       "      <td>NaN</td>\n",
       "      <td>NaN</td>\n",
       "      <td>NaN</td>\n",
       "      <td>NaN</td>\n",
       "      <td>NaN</td>\n",
       "      <td>NaN</td>\n",
       "      <td>NaN</td>\n",
       "    </tr>\n",
       "    <tr>\n",
       "      <th>551777</th>\n",
       "      <td>BROOKLYN</td>\n",
       "      <td>11232.0</td>\n",
       "      <td>4000 1 AVENUE</td>\n",
       "      <td>1 AVENUE</td>\n",
       "      <td>40 STREET</td>\n",
       "      <td>41 STREET</td>\n",
       "      <td>NaN</td>\n",
       "      <td>NaN</td>\n",
       "      <td>ADDRESS</td>\n",
       "      <td>BROOKLYN</td>\n",
       "      <td>NaN</td>\n",
       "      <td>Precinct</td>\n",
       "    </tr>\n",
       "    <tr>\n",
       "      <th>170575</th>\n",
       "      <td>BROOKLYN</td>\n",
       "      <td>11220.0</td>\n",
       "      <td>5401 1 AVENUE</td>\n",
       "      <td>1 AVENUE</td>\n",
       "      <td>54 STREET</td>\n",
       "      <td>55 STREET</td>\n",
       "      <td>54 STREET</td>\n",
       "      <td>55 STREET</td>\n",
       "      <td>NaN</td>\n",
       "      <td>BROOKLYN</td>\n",
       "      <td>1 AVENUE</td>\n",
       "      <td>NaN</td>\n",
       "    </tr>\n",
       "    <tr>\n",
       "      <th>669247</th>\n",
       "      <td>BROOKLYN</td>\n",
       "      <td>11220.0</td>\n",
       "      <td>5601 1 AVENUE</td>\n",
       "      <td>1 AVENUE</td>\n",
       "      <td>56 STREET</td>\n",
       "      <td>57 STREET</td>\n",
       "      <td>NaN</td>\n",
       "      <td>NaN</td>\n",
       "      <td>ADDRESS</td>\n",
       "      <td>BROOKLYN</td>\n",
       "      <td>NaN</td>\n",
       "      <td>NaN</td>\n",
       "    </tr>\n",
       "  </tbody>\n",
       "</table>\n",
       "</div>"
      ],
      "text/plain": [
       "         Borough  Incident Zip     Incident Address  Street Name  \\\n",
       "396356  BROOKLYN           NaN  481-483 .DEKALB AVE  .DEKALB AVE   \n",
       "455159  BROOKLYN           NaN        4821 1 AVENUE     1 AVENUE   \n",
       "551777  BROOKLYN       11232.0        4000 1 AVENUE     1 AVENUE   \n",
       "170575  BROOKLYN       11220.0        5401 1 AVENUE     1 AVENUE   \n",
       "669247  BROOKLYN       11220.0        5601 1 AVENUE     1 AVENUE   \n",
       "\n",
       "       Cross Street 1 Cross Street 2 Intersection Street 1  \\\n",
       "396356            NaN            NaN                   NaN   \n",
       "455159            NaN            NaN                   NaN   \n",
       "551777      40 STREET      41 STREET                   NaN   \n",
       "170575      54 STREET      55 STREET             54 STREET   \n",
       "669247      56 STREET      57 STREET                   NaN   \n",
       "\n",
       "       Intersection Street 2 Address Type      City  Landmark Facility Type  \n",
       "396356                   NaN          NaN       NaN       NaN           NaN  \n",
       "455159                   NaN          NaN       NaN       NaN           NaN  \n",
       "551777                   NaN      ADDRESS  BROOKLYN       NaN      Precinct  \n",
       "170575             55 STREET          NaN  BROOKLYN  1 AVENUE           NaN  \n",
       "669247                   NaN      ADDRESS  BROOKLYN       NaN           NaN  "
      ]
     },
     "execution_count": 15,
     "metadata": {},
     "output_type": "execute_result"
    }
   ],
   "source": [
    "df.loc[is_brooklyn(), place_desc].sort_values(by='Street Name').head()"
   ]
  },
  {
   "cell_type": "code",
   "execution_count": 23,
   "id": "e47698ea",
   "metadata": {},
   "outputs": [],
   "source": [
    "def uniform_names(x):\n",
    "    pt1 = re.compile(r'\\ ST\\.*$')\n",
    "    pt2 = re.compile(r'\\ AVE\\.*$')\n",
    "    pt3 = re.compile(r'\\ RD\\.*$')\n",
    "    pt4 = re.compile(r' \\ PL\\.*$')\n",
    "    pt5 = re.compile(r'\\w{3}')\n",
    "    try:\n",
    "        if re.search(pt1, x):\n",
    "            return re.sub(pt1, ' STREET', x).upper()\n",
    "        elif re.search(pt2, x):\n",
    "            return re.sub(pt2, ' AVENUE', x).upper()\n",
    "        elif re.search(pt3, x):\n",
    "            return re.sub(pt3, ' ROAD', x).upper()\n",
    "        elif re.search(pt4, x):\n",
    "            return re.sub(pt4, ' PLACE', x).upper()\n",
    "        elif not re.search(pt5, x):\n",
    "            return np.nan\n",
    "    except:\n",
    "        return x\n",
    "    return x\n"
   ]
  },
  {
   "cell_type": "code",
   "execution_count": 24,
   "id": "81f2a71b",
   "metadata": {},
   "outputs": [],
   "source": [
    "street_cols = ['Incident Address', 'Street Name', 'Cross Street 1', 'Cross Street 2',\n",
    "       'Intersection Street 1', 'Intersection Street 2']\n",
    "for col in street_cols:\n",
    "    df[col] = df[col].apply(lambda x: uniform_names(x))\n",
    "    "
   ]
  },
  {
   "cell_type": "code",
   "execution_count": 27,
   "id": "0d6e9d0e",
   "metadata": {},
   "outputs": [
    {
     "data": {
      "text/html": [
       "<div>\n",
       "<style scoped>\n",
       "    .dataframe tbody tr th:only-of-type {\n",
       "        vertical-align: middle;\n",
       "    }\n",
       "\n",
       "    .dataframe tbody tr th {\n",
       "        vertical-align: top;\n",
       "    }\n",
       "\n",
       "    .dataframe thead th {\n",
       "        text-align: right;\n",
       "    }\n",
       "</style>\n",
       "<table border=\"1\" class=\"dataframe\">\n",
       "  <thead>\n",
       "    <tr style=\"text-align: right;\">\n",
       "      <th></th>\n",
       "      <th>Borough</th>\n",
       "      <th>Incident Zip</th>\n",
       "      <th>Incident Address</th>\n",
       "      <th>Street Name</th>\n",
       "      <th>Cross Street 1</th>\n",
       "      <th>Cross Street 2</th>\n",
       "      <th>Intersection Street 1</th>\n",
       "      <th>Intersection Street 2</th>\n",
       "      <th>Address Type</th>\n",
       "      <th>City</th>\n",
       "      <th>Landmark</th>\n",
       "      <th>Facility Type</th>\n",
       "    </tr>\n",
       "  </thead>\n",
       "  <tbody>\n",
       "    <tr>\n",
       "      <th>0</th>\n",
       "      <td>BROOKLYN</td>\n",
       "      <td>11226.0</td>\n",
       "      <td>2709 CLARENDON ROAD</td>\n",
       "      <td>CLARENDON ROAD</td>\n",
       "      <td>NaN</td>\n",
       "      <td>NaN</td>\n",
       "      <td>NaN</td>\n",
       "      <td>NaN</td>\n",
       "      <td>ADDRESS</td>\n",
       "      <td>BROOKLYN</td>\n",
       "      <td>NaN</td>\n",
       "      <td>NaN</td>\n",
       "    </tr>\n",
       "    <tr>\n",
       "      <th>1</th>\n",
       "      <td>NaN</td>\n",
       "      <td>NaN</td>\n",
       "      <td>NaN</td>\n",
       "      <td>NaN</td>\n",
       "      <td>NaN</td>\n",
       "      <td>NaN</td>\n",
       "      <td>NaN</td>\n",
       "      <td>NaN</td>\n",
       "      <td>NaN</td>\n",
       "      <td>NaN</td>\n",
       "      <td>NaN</td>\n",
       "      <td>NaN</td>\n",
       "    </tr>\n",
       "    <tr>\n",
       "      <th>2</th>\n",
       "      <td>BROOKLYN</td>\n",
       "      <td>11211.0</td>\n",
       "      <td>201 SOUTH 4 STREET</td>\n",
       "      <td>SOUTH 4 STREET</td>\n",
       "      <td>SOUTH 5 PLACE</td>\n",
       "      <td>ROEBLING STREET</td>\n",
       "      <td>NaN</td>\n",
       "      <td>NaN</td>\n",
       "      <td>ADDRESS</td>\n",
       "      <td>BROOKLYN</td>\n",
       "      <td>NaN</td>\n",
       "      <td>NaN</td>\n",
       "    </tr>\n",
       "    <tr>\n",
       "      <th>3</th>\n",
       "      <td>MANHATTAN</td>\n",
       "      <td>10032.0</td>\n",
       "      <td>533 WEST 158 STREET</td>\n",
       "      <td>WEST 158 STREET</td>\n",
       "      <td>AMSTERDAM AVENUE</td>\n",
       "      <td>BROADWAY</td>\n",
       "      <td>NaN</td>\n",
       "      <td>NaN</td>\n",
       "      <td>ADDRESS</td>\n",
       "      <td>NEW YORK</td>\n",
       "      <td>NaN</td>\n",
       "      <td>NaN</td>\n",
       "    </tr>\n",
       "    <tr>\n",
       "      <th>4</th>\n",
       "      <td>STATEN ISLAND</td>\n",
       "      <td>10303.0</td>\n",
       "      <td>6 MACORMAC PLACE</td>\n",
       "      <td>MACORMAC PLACE</td>\n",
       "      <td>NORTHFIELD AVENUE</td>\n",
       "      <td>HOLLAND AVENUE</td>\n",
       "      <td>NaN</td>\n",
       "      <td>NaN</td>\n",
       "      <td>ADDRESS</td>\n",
       "      <td>STATEN ISLAND</td>\n",
       "      <td>NaN</td>\n",
       "      <td>NaN</td>\n",
       "    </tr>\n",
       "  </tbody>\n",
       "</table>\n",
       "</div>"
      ],
      "text/plain": [
       "         Borough  Incident Zip     Incident Address      Street Name  \\\n",
       "0       BROOKLYN       11226.0  2709 CLARENDON ROAD   CLARENDON ROAD   \n",
       "1            NaN           NaN                  NaN              NaN   \n",
       "2       BROOKLYN       11211.0   201 SOUTH 4 STREET   SOUTH 4 STREET   \n",
       "3      MANHATTAN       10032.0  533 WEST 158 STREET  WEST 158 STREET   \n",
       "4  STATEN ISLAND       10303.0     6 MACORMAC PLACE   MACORMAC PLACE   \n",
       "\n",
       "      Cross Street 1   Cross Street 2 Intersection Street 1  \\\n",
       "0                NaN              NaN                   NaN   \n",
       "1                NaN              NaN                   NaN   \n",
       "2      SOUTH 5 PLACE  ROEBLING STREET                   NaN   \n",
       "3   AMSTERDAM AVENUE         BROADWAY                   NaN   \n",
       "4  NORTHFIELD AVENUE   HOLLAND AVENUE                   NaN   \n",
       "\n",
       "  Intersection Street 2 Address Type           City Landmark Facility Type  \n",
       "0                   NaN      ADDRESS       BROOKLYN      NaN           NaN  \n",
       "1                   NaN          NaN            NaN      NaN           NaN  \n",
       "2                   NaN      ADDRESS       BROOKLYN      NaN           NaN  \n",
       "3                   NaN      ADDRESS       NEW YORK      NaN           NaN  \n",
       "4                   NaN      ADDRESS  STATEN ISLAND      NaN           NaN  "
      ]
     },
     "execution_count": 27,
     "metadata": {},
     "output_type": "execute_result"
    }
   ],
   "source": [
    "df[place_desc].head()"
   ]
  },
  {
   "cell_type": "code",
   "execution_count": 28,
   "id": "9163423d",
   "metadata": {},
   "outputs": [],
   "source": [
    "df.dropna(subset=place_desc, how='all', inplace=True)"
   ]
  },
  {
   "cell_type": "code",
   "execution_count": 29,
   "id": "018652dd",
   "metadata": {},
   "outputs": [
    {
     "data": {
      "text/plain": [
       "75241"
      ]
     },
     "execution_count": 29,
     "metadata": {},
     "output_type": "execute_result"
    }
   ],
   "source": [
    "show_progress()"
   ]
  },
  {
   "cell_type": "code",
   "execution_count": null,
   "id": "08e4b7b2",
   "metadata": {},
   "outputs": [],
   "source": []
  },
  {
   "cell_type": "code",
   "execution_count": null,
   "id": "ffede20e",
   "metadata": {},
   "outputs": [],
   "source": []
  },
  {
   "cell_type": "code",
   "execution_count": null,
   "id": "337e4f04",
   "metadata": {},
   "outputs": [],
   "source": []
  },
  {
   "cell_type": "code",
   "execution_count": null,
   "id": "ebd1ca8a",
   "metadata": {},
   "outputs": [],
   "source": []
  },
  {
   "cell_type": "code",
   "execution_count": null,
   "id": "c24c261e",
   "metadata": {},
   "outputs": [],
   "source": []
  },
  {
   "cell_type": "code",
   "execution_count": null,
   "id": "69e74229",
   "metadata": {},
   "outputs": [],
   "source": []
  },
  {
   "cell_type": "code",
   "execution_count": null,
   "id": "ed32b517",
   "metadata": {},
   "outputs": [],
   "source": []
  },
  {
   "cell_type": "code",
   "execution_count": null,
   "id": "b5d897de",
   "metadata": {},
   "outputs": [],
   "source": []
  },
  {
   "cell_type": "code",
   "execution_count": null,
   "id": "caaa9ff3",
   "metadata": {},
   "outputs": [],
   "source": []
  },
  {
   "cell_type": "code",
   "execution_count": null,
   "id": "d243328e",
   "metadata": {},
   "outputs": [],
   "source": []
  },
  {
   "cell_type": "code",
   "execution_count": null,
   "id": "76e58827",
   "metadata": {},
   "outputs": [],
   "source": []
  },
  {
   "cell_type": "code",
   "execution_count": null,
   "id": "217a0592",
   "metadata": {},
   "outputs": [],
   "source": []
  },
  {
   "cell_type": "code",
   "execution_count": null,
   "id": "c95d00f9",
   "metadata": {},
   "outputs": [],
   "source": []
  },
  {
   "cell_type": "code",
   "execution_count": null,
   "id": "02f9f178",
   "metadata": {},
   "outputs": [],
   "source": []
  },
  {
   "cell_type": "code",
   "execution_count": null,
   "id": "6054c76f",
   "metadata": {},
   "outputs": [],
   "source": []
  },
  {
   "cell_type": "code",
   "execution_count": null,
   "id": "0fad6df1",
   "metadata": {},
   "outputs": [],
   "source": []
  },
  {
   "cell_type": "code",
   "execution_count": 16,
   "id": "fa6d6980",
   "metadata": {},
   "outputs": [],
   "source": [
    "# SANDBOX: DONT USE"
   ]
  },
  {
   "cell_type": "code",
   "execution_count": 20,
   "id": "e246356d",
   "metadata": {
    "scrolled": true
   },
   "outputs": [
    {
     "data": {
      "text/html": [
       "<div>\n",
       "<style scoped>\n",
       "    .dataframe tbody tr th:only-of-type {\n",
       "        vertical-align: middle;\n",
       "    }\n",
       "\n",
       "    .dataframe tbody tr th {\n",
       "        vertical-align: top;\n",
       "    }\n",
       "\n",
       "    .dataframe thead th {\n",
       "        text-align: right;\n",
       "    }\n",
       "</style>\n",
       "<table border=\"1\" class=\"dataframe\">\n",
       "  <thead>\n",
       "    <tr style=\"text-align: right;\">\n",
       "      <th></th>\n",
       "      <th>Borough</th>\n",
       "      <th>Incident Zip</th>\n",
       "      <th>Incident Address</th>\n",
       "      <th>Street Name</th>\n",
       "      <th>Cross Street 1</th>\n",
       "      <th>Cross Street 2</th>\n",
       "      <th>Intersection Street 1</th>\n",
       "      <th>Intersection Street 2</th>\n",
       "      <th>Address Type</th>\n",
       "      <th>City</th>\n",
       "      <th>Landmark</th>\n",
       "      <th>Facility Type</th>\n",
       "    </tr>\n",
       "  </thead>\n",
       "  <tbody>\n",
       "    <tr>\n",
       "      <th>1308</th>\n",
       "      <td>NaN</td>\n",
       "      <td>11430.0</td>\n",
       "      <td>21A NORTH SERVICE RD</td>\n",
       "      <td>NORTH SERVICE RD</td>\n",
       "      <td>NaN</td>\n",
       "      <td>NaN</td>\n",
       "      <td>NaN</td>\n",
       "      <td>NaN</td>\n",
       "      <td>NaN</td>\n",
       "      <td>JAMAICA</td>\n",
       "      <td>NaN</td>\n",
       "      <td>NaN</td>\n",
       "    </tr>\n",
       "    <tr>\n",
       "      <th>1490</th>\n",
       "      <td>QUEENS</td>\n",
       "      <td>11103.0</td>\n",
       "      <td>441 NEWTOWN RD</td>\n",
       "      <td>NEWTOWN RD</td>\n",
       "      <td>31 AVE</td>\n",
       "      <td>44 ST</td>\n",
       "      <td>NEWTOWN ROAD</td>\n",
       "      <td>44 STREET</td>\n",
       "      <td>INTERSECTION</td>\n",
       "      <td>Astoria</td>\n",
       "      <td>NaN</td>\n",
       "      <td>NaN</td>\n",
       "    </tr>\n",
       "    <tr>\n",
       "      <th>5560</th>\n",
       "      <td>NaN</td>\n",
       "      <td>NaN</td>\n",
       "      <td>3 BREWSTER RD</td>\n",
       "      <td>BREWSTER RD</td>\n",
       "      <td>NaN</td>\n",
       "      <td>NaN</td>\n",
       "      <td>NaN</td>\n",
       "      <td>NaN</td>\n",
       "      <td>NaN</td>\n",
       "      <td>NEWARK</td>\n",
       "      <td>NaN</td>\n",
       "      <td>NaN</td>\n",
       "    </tr>\n",
       "    <tr>\n",
       "      <th>9561</th>\n",
       "      <td>QUEENS</td>\n",
       "      <td>11101.0</td>\n",
       "      <td>ED KOCH QUEENSBORO BR UPPER RDWY</td>\n",
       "      <td>ED KOCH QUEENSBORO BR UPPER RDWY</td>\n",
       "      <td>ED KOCH QUEENSBORO BRIDGE</td>\n",
       "      <td>VERNON BOULEVARD</td>\n",
       "      <td>NaN</td>\n",
       "      <td>NaN</td>\n",
       "      <td>ADDRESS</td>\n",
       "      <td>LONG ISLAND CITY</td>\n",
       "      <td>NaN</td>\n",
       "      <td>NaN</td>\n",
       "    </tr>\n",
       "    <tr>\n",
       "      <th>17325</th>\n",
       "      <td>NaN</td>\n",
       "      <td>NaN</td>\n",
       "      <td>200 LIBERTY CORNER RD</td>\n",
       "      <td>LIBERTY CORNER RD</td>\n",
       "      <td>NaN</td>\n",
       "      <td>NaN</td>\n",
       "      <td>NaN</td>\n",
       "      <td>NaN</td>\n",
       "      <td>NaN</td>\n",
       "      <td>WARREN</td>\n",
       "      <td>NaN</td>\n",
       "      <td>NaN</td>\n",
       "    </tr>\n",
       "  </tbody>\n",
       "</table>\n",
       "</div>"
      ],
      "text/plain": [
       "      Borough  Incident Zip                  Incident Address  \\\n",
       "1308      NaN       11430.0              21A NORTH SERVICE RD   \n",
       "1490   QUEENS       11103.0                    441 NEWTOWN RD   \n",
       "5560      NaN           NaN                     3 BREWSTER RD   \n",
       "9561   QUEENS       11101.0  ED KOCH QUEENSBORO BR UPPER RDWY   \n",
       "17325     NaN           NaN             200 LIBERTY CORNER RD   \n",
       "\n",
       "                            Street Name             Cross Street 1  \\\n",
       "1308                   NORTH SERVICE RD                        NaN   \n",
       "1490                         NEWTOWN RD                     31 AVE   \n",
       "5560                        BREWSTER RD                        NaN   \n",
       "9561   ED KOCH QUEENSBORO BR UPPER RDWY  ED KOCH QUEENSBORO BRIDGE   \n",
       "17325                 LIBERTY CORNER RD                        NaN   \n",
       "\n",
       "         Cross Street 2 Intersection Street 1 Intersection Street 2  \\\n",
       "1308                NaN                   NaN                   NaN   \n",
       "1490              44 ST          NEWTOWN ROAD             44 STREET   \n",
       "5560                NaN                   NaN                   NaN   \n",
       "9561   VERNON BOULEVARD                   NaN                   NaN   \n",
       "17325               NaN                   NaN                   NaN   \n",
       "\n",
       "       Address Type              City Landmark Facility Type  \n",
       "1308            NaN           JAMAICA      NaN           NaN  \n",
       "1490   INTERSECTION           Astoria      NaN           NaN  \n",
       "5560            NaN            NEWARK      NaN           NaN  \n",
       "9561        ADDRESS  LONG ISLAND CITY      NaN           NaN  \n",
       "17325           NaN            WARREN      NaN           NaN  "
      ]
     },
     "execution_count": 20,
     "metadata": {},
     "output_type": "execute_result"
    }
   ],
   "source": [
    "df.loc[df['Street Name'].str.contains('\\ RD', na=False), place_desc].head()"
   ]
  },
  {
   "cell_type": "code",
   "execution_count": 35,
   "id": "db6ca7d0",
   "metadata": {},
   "outputs": [
    {
     "data": {
      "text/plain": [
       "(322885, 12)"
      ]
     },
     "execution_count": 35,
     "metadata": {},
     "output_type": "execute_result"
    }
   ],
   "source": [
    "tmp = df.loc[is_brooklyn(), place_desc].copy()\n",
    "tmp.shape"
   ]
  },
  {
   "cell_type": "code",
   "execution_count": 50,
   "id": "abebf002",
   "metadata": {},
   "outputs": [],
   "source": [
    "tmp = tmp.drop_duplicates(subset=street_cols, keep='first')"
   ]
  },
  {
   "cell_type": "code",
   "execution_count": 47,
   "id": "a0a5770e",
   "metadata": {},
   "outputs": [
    {
     "data": {
      "text/html": [
       "<div>\n",
       "<style scoped>\n",
       "    .dataframe tbody tr th:only-of-type {\n",
       "        vertical-align: middle;\n",
       "    }\n",
       "\n",
       "    .dataframe tbody tr th {\n",
       "        vertical-align: top;\n",
       "    }\n",
       "\n",
       "    .dataframe thead th {\n",
       "        text-align: right;\n",
       "    }\n",
       "</style>\n",
       "<table border=\"1\" class=\"dataframe\">\n",
       "  <thead>\n",
       "    <tr style=\"text-align: right;\">\n",
       "      <th></th>\n",
       "      <th>Borough</th>\n",
       "      <th>Incident Zip</th>\n",
       "      <th>Incident Address</th>\n",
       "      <th>Street Name</th>\n",
       "      <th>Cross Street 1</th>\n",
       "      <th>Cross Street 2</th>\n",
       "      <th>Intersection Street 1</th>\n",
       "      <th>Intersection Street 2</th>\n",
       "      <th>Address Type</th>\n",
       "      <th>City</th>\n",
       "      <th>Landmark</th>\n",
       "      <th>Facility Type</th>\n",
       "    </tr>\n",
       "  </thead>\n",
       "  <tbody>\n",
       "    <tr>\n",
       "      <th>0</th>\n",
       "      <td>BROOKLYN</td>\n",
       "      <td>11226.0</td>\n",
       "      <td>2709 CLARENDON ROAD</td>\n",
       "      <td>CLARENDON ROAD</td>\n",
       "      <td>NaN</td>\n",
       "      <td>NaN</td>\n",
       "      <td>NaN</td>\n",
       "      <td>NaN</td>\n",
       "      <td>ADDRESS</td>\n",
       "      <td>BROOKLYN</td>\n",
       "      <td>NaN</td>\n",
       "      <td>NaN</td>\n",
       "    </tr>\n",
       "    <tr>\n",
       "      <th>2</th>\n",
       "      <td>BROOKLYN</td>\n",
       "      <td>11211.0</td>\n",
       "      <td>201 SOUTH 4 STREET</td>\n",
       "      <td>SOUTH 4 STREET</td>\n",
       "      <td>SOUTH 5 PLACE</td>\n",
       "      <td>ROEBLING STREET</td>\n",
       "      <td>NaN</td>\n",
       "      <td>NaN</td>\n",
       "      <td>ADDRESS</td>\n",
       "      <td>BROOKLYN</td>\n",
       "      <td>NaN</td>\n",
       "      <td>NaN</td>\n",
       "    </tr>\n",
       "    <tr>\n",
       "      <th>8</th>\n",
       "      <td>BROOKLYN</td>\n",
       "      <td>NaN</td>\n",
       "      <td>NaN</td>\n",
       "      <td>NaN</td>\n",
       "      <td>NaN</td>\n",
       "      <td>NaN</td>\n",
       "      <td>NaN</td>\n",
       "      <td>AVE Y</td>\n",
       "      <td>INTERSECTION</td>\n",
       "      <td>NaN</td>\n",
       "      <td>NaN</td>\n",
       "      <td>NaN</td>\n",
       "    </tr>\n",
       "    <tr>\n",
       "      <th>16</th>\n",
       "      <td>BROOKLYN</td>\n",
       "      <td>11225.0</td>\n",
       "      <td>410 EASTERN PARKWAY</td>\n",
       "      <td>EASTERN PARKWAY</td>\n",
       "      <td>BEDFORD AVENUE</td>\n",
       "      <td>ROGERS AVENUE</td>\n",
       "      <td>NaN</td>\n",
       "      <td>NaN</td>\n",
       "      <td>ADDRESS</td>\n",
       "      <td>BROOKLYN</td>\n",
       "      <td>NaN</td>\n",
       "      <td>NaN</td>\n",
       "    </tr>\n",
       "    <tr>\n",
       "      <th>24</th>\n",
       "      <td>BROOKLYN</td>\n",
       "      <td>11228.0</td>\n",
       "      <td>NaN</td>\n",
       "      <td>NaN</td>\n",
       "      <td>NaN</td>\n",
       "      <td>NaN</td>\n",
       "      <td>12 AVENUE</td>\n",
       "      <td>86 STREET</td>\n",
       "      <td>INTERSECTION</td>\n",
       "      <td>BROOKLYN</td>\n",
       "      <td>NaN</td>\n",
       "      <td>NaN</td>\n",
       "    </tr>\n",
       "  </tbody>\n",
       "</table>\n",
       "</div>"
      ],
      "text/plain": [
       "     Borough  Incident Zip     Incident Address      Street Name  \\\n",
       "0   BROOKLYN       11226.0  2709 CLARENDON ROAD   CLARENDON ROAD   \n",
       "2   BROOKLYN       11211.0   201 SOUTH 4 STREET   SOUTH 4 STREET   \n",
       "8   BROOKLYN           NaN                  NaN              NaN   \n",
       "16  BROOKLYN       11225.0  410 EASTERN PARKWAY  EASTERN PARKWAY   \n",
       "24  BROOKLYN       11228.0                  NaN              NaN   \n",
       "\n",
       "    Cross Street 1   Cross Street 2 Intersection Street 1  \\\n",
       "0              NaN              NaN                   NaN   \n",
       "2    SOUTH 5 PLACE  ROEBLING STREET                   NaN   \n",
       "8              NaN              NaN                   NaN   \n",
       "16  BEDFORD AVENUE    ROGERS AVENUE                   NaN   \n",
       "24             NaN              NaN             12 AVENUE   \n",
       "\n",
       "   Intersection Street 2  Address Type      City Landmark Facility Type  \n",
       "0                    NaN       ADDRESS  BROOKLYN      NaN           NaN  \n",
       "2                    NaN       ADDRESS  BROOKLYN      NaN           NaN  \n",
       "8                  AVE Y  INTERSECTION       NaN      NaN           NaN  \n",
       "16                   NaN       ADDRESS  BROOKLYN      NaN           NaN  \n",
       "24             86 STREET  INTERSECTION  BROOKLYN      NaN           NaN  "
      ]
     },
     "execution_count": 47,
     "metadata": {},
     "output_type": "execute_result"
    }
   ],
   "source": [
    "tmp.head()"
   ]
  },
  {
   "cell_type": "code",
   "execution_count": 51,
   "id": "bb97ddb4",
   "metadata": {},
   "outputs": [],
   "source": [
    "tmp = tmp.dropna(subset=['Street Name', 'Cross Street 1'], how='all')"
   ]
  },
  {
   "cell_type": "code",
   "execution_count": 59,
   "id": "35fb25c3",
   "metadata": {},
   "outputs": [
    {
     "data": {
      "text/plain": [
       "Street Name            Cross Street 1                 \n",
       "1 AVENUE               40 STREET                               [11232.0]\n",
       "                       42 STREET                               [11232.0]\n",
       "                       44 STREET                          [nan, 11232.0]\n",
       "                       47 STREET                               [11232.0]\n",
       "                       48 STREET                               [11232.0]\n",
       "                                                               ...      \n",
       "YORK STREET            GOLD STREET                             [11201.0]\n",
       "                       JAY STREET                              [11201.0]\n",
       "                       MELQUAIN JATELLE ANDERSON DRIVE         [11201.0]\n",
       "                       NAVY STREET                             [11201.0]\n",
       "ZENITA THOMPSON PLACE  MONTGOMERY STREET                       [11225.0]\n",
       "Name: Incident Zip, Length: 21610, dtype: object"
      ]
     },
     "execution_count": 59,
     "metadata": {},
     "output_type": "execute_result"
    }
   ],
   "source": [
    "tmp.groupby(['Street Name', 'Cross Street 1'])['Incident Zip'].unique()"
   ]
  },
  {
   "cell_type": "code",
   "execution_count": 57,
   "id": "4398a850",
   "metadata": {},
   "outputs": [],
   "source": [
    "length = (tmp.groupby(['Street Name', 'Cross Street 1'])['Incident Zip']\n",
    " .unique()\n",
    " .apply(lambda x: len(x))\n",
    ")"
   ]
  },
  {
   "cell_type": "code",
   "execution_count": 58,
   "id": "90164bcb",
   "metadata": {},
   "outputs": [
    {
     "data": {
      "text/plain": [
       "Street Name       Cross Street 1 \n",
       "4 AVENUE          4 AVENUE           4\n",
       "75 STREET         PITKIN AVENUE      3\n",
       "ATLANTIC AVENUE   ATLANTIC AVENUE    5\n",
       "AVENUE P          AVENUE P           3\n",
       "BEDFORD AVENUE    BEDFORD AVENUE     3\n",
       "                  NORTH 12 STREET    3\n",
       "BROADWAY          BROADWAY           3\n",
       "EASTERN PARKWAY   EASTERN PKWY       3\n",
       "FULTON STREET     FULTON STREET      4\n",
       "KINGS HIGHWAY     BEND               3\n",
       "MC DONALD AVENUE  18 AVENUE          4\n",
       "Name: Incident Zip, dtype: int64"
      ]
     },
     "execution_count": 58,
     "metadata": {},
     "output_type": "execute_result"
    }
   ],
   "source": [
    "length[length > 2]"
   ]
  },
  {
   "cell_type": "code",
   "execution_count": null,
   "id": "4a528d0e",
   "metadata": {},
   "outputs": [],
   "source": []
  },
  {
   "cell_type": "code",
   "execution_count": 39,
   "id": "b55166f7",
   "metadata": {},
   "outputs": [
    {
     "data": {
      "text/html": [
       "<div>\n",
       "<style scoped>\n",
       "    .dataframe tbody tr th:only-of-type {\n",
       "        vertical-align: middle;\n",
       "    }\n",
       "\n",
       "    .dataframe tbody tr th {\n",
       "        vertical-align: top;\n",
       "    }\n",
       "\n",
       "    .dataframe thead th {\n",
       "        text-align: right;\n",
       "    }\n",
       "</style>\n",
       "<table border=\"1\" class=\"dataframe\">\n",
       "  <thead>\n",
       "    <tr style=\"text-align: right;\">\n",
       "      <th></th>\n",
       "      <th>a</th>\n",
       "      <th>b</th>\n",
       "    </tr>\n",
       "  </thead>\n",
       "  <tbody>\n",
       "    <tr>\n",
       "      <th>0</th>\n",
       "      <td>1</td>\n",
       "      <td>2</td>\n",
       "    </tr>\n",
       "    <tr>\n",
       "      <th>1</th>\n",
       "      <td>1</td>\n",
       "      <td>2</td>\n",
       "    </tr>\n",
       "    <tr>\n",
       "      <th>2</th>\n",
       "      <td>3</td>\n",
       "      <td>4</td>\n",
       "    </tr>\n",
       "  </tbody>\n",
       "</table>\n",
       "</div>"
      ],
      "text/plain": [
       "   a  b\n",
       "0  1  2\n",
       "1  1  2\n",
       "2  3  4"
      ]
     },
     "execution_count": 39,
     "metadata": {},
     "output_type": "execute_result"
    }
   ],
   "source": [
    "a = pd.DataFrame({'a': [1,1,3], 'b': [2,2,4]})\n",
    "a"
   ]
  },
  {
   "cell_type": "code",
   "execution_count": 43,
   "id": "734c6b0f",
   "metadata": {},
   "outputs": [
    {
     "data": {
      "text/html": [
       "<div>\n",
       "<style scoped>\n",
       "    .dataframe tbody tr th:only-of-type {\n",
       "        vertical-align: middle;\n",
       "    }\n",
       "\n",
       "    .dataframe tbody tr th {\n",
       "        vertical-align: top;\n",
       "    }\n",
       "\n",
       "    .dataframe thead th {\n",
       "        text-align: right;\n",
       "    }\n",
       "</style>\n",
       "<table border=\"1\" class=\"dataframe\">\n",
       "  <thead>\n",
       "    <tr style=\"text-align: right;\">\n",
       "      <th></th>\n",
       "      <th>a</th>\n",
       "      <th>b</th>\n",
       "    </tr>\n",
       "  </thead>\n",
       "  <tbody>\n",
       "    <tr>\n",
       "      <th>0</th>\n",
       "      <td>1</td>\n",
       "      <td>2</td>\n",
       "    </tr>\n",
       "    <tr>\n",
       "      <th>2</th>\n",
       "      <td>3</td>\n",
       "      <td>4</td>\n",
       "    </tr>\n",
       "  </tbody>\n",
       "</table>\n",
       "</div>"
      ],
      "text/plain": [
       "   a  b\n",
       "0  1  2\n",
       "2  3  4"
      ]
     },
     "execution_count": 43,
     "metadata": {},
     "output_type": "execute_result"
    }
   ],
   "source": [
    "a.drop_duplicates(subset=['a', 'b'], keep='first')"
   ]
  }
 ],
 "metadata": {
  "kernelspec": {
   "display_name": "Python 3 (ipykernel)",
   "language": "python",
   "name": "python3"
  },
  "language_info": {
   "codemirror_mode": {
    "name": "ipython",
    "version": 3
   },
   "file_extension": ".py",
   "mimetype": "text/x-python",
   "name": "python",
   "nbconvert_exporter": "python",
   "pygments_lexer": "ipython3",
   "version": "3.10.1"
  }
 },
 "nbformat": 4,
 "nbformat_minor": 5
}
