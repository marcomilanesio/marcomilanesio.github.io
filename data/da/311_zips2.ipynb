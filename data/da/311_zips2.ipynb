{
 "cells": [
  {
   "cell_type": "code",
   "execution_count": 184,
   "id": "78d00100",
   "metadata": {},
   "outputs": [
    {
     "name": "stderr",
     "output_type": "stream",
     "text": [
      "/var/folders/b3/cjvms6c10k77tgv6k_rw3jbh0000gn/T/ipykernel_60390/2466011350.py:5: DtypeWarning: Columns (31) have mixed types. Specify dtype option on import or set low_memory=False.\n",
      "  df = pd.read_csv('./data/311_calls_Take2.csv')\n"
     ]
    },
    {
     "data": {
      "text/plain": [
       "43469"
      ]
     },
     "execution_count": 184,
     "metadata": {},
     "output_type": "execute_result"
    }
   ],
   "source": [
    "import pandas as pd\n",
    "import numpy as np\n",
    "import re\n",
    "\n",
    "df = pd.read_csv('./data/311_calls_Take2.csv')\n",
    "show_progress = lambda: df['Incident Zip'].isna().sum()\n",
    "\n",
    "place_desc = ['Borough', 'Incident Zip',\n",
    "       'Incident Address', 'Street Name', 'Cross Street 1', 'Cross Street 2',\n",
    "       'Intersection Street 1', 'Intersection Street 2', 'Address Type',\n",
    "       'City', 'Landmark', 'Facility Type']\n",
    "\n",
    "street_attrs = ['Incident Address', 'Street Name', 'Cross Street 1', 'Cross Street 2', \n",
    "                'Intersection Street 1', 'Intersection Street 2']\n",
    "\n",
    "show_progress()"
   ]
  }
 ],
 "metadata": {
  "kernelspec": {
   "display_name": "Python 3 (ipykernel)",
   "language": "python",
   "name": "python3"
  },
  "language_info": {
   "codemirror_mode": {
    "name": "ipython",
    "version": 3
   },
   "file_extension": ".py",
   "mimetype": "text/x-python",
   "name": "python",
   "nbconvert_exporter": "python",
   "pygments_lexer": "ipython3",
   "version": "3.10.1"
  }
 },
 "nbformat": 4,
 "nbformat_minor": 5
}
