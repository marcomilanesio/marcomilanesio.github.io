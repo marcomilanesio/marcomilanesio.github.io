{
 "cells": [
  {
   "cell_type": "code",
   "execution_count": null,
   "id": "0c500706",
   "metadata": {},
   "outputs": [],
   "source": [
    "class Student:\n",
    "    \n",
    "    def __init__(self, name, age):\n",
    "        self.name = name\n",
    "        self.age = age\n"
   ]
  },
  {
   "cell_type": "markdown",
   "id": "b99401c9",
   "metadata": {},
   "source": [
    "### Class variables\n",
    "  * shared among all instances\n",
    "  * outside the construnctor\n",
    "  * sharing data between instances"
   ]
  },
  {
   "cell_type": "code",
   "execution_count": null,
   "id": "d22b6b70",
   "metadata": {},
   "outputs": [],
   "source": [
    "class Student:\n",
    "    class_year = 2025\n",
    "    num_students = 0\n",
    "    \n",
    "    def __init__(self, name, age):\n",
    "        self.name = name\n",
    "        self.age = age\n",
    "        Student.num_students += 1\n",
    "        \n",
    "s1 = Student('Alice', 24)\n",
    "s2 = Student('Bob', 23)\n",
    "print(s1.class_year)\n",
    "print(Student.class_year)  # better statement\n",
    "print(Student.num_students)"
   ]
  },
  {
   "cell_type": "markdown",
   "id": "842c28b9",
   "metadata": {},
   "source": [
    "### Inheritance\n",
    "  * specialisation\n",
    "  * code reausability and extensibility"
   ]
  },
  {
   "cell_type": "code",
   "execution_count": null,
   "id": "f9e36d77",
   "metadata": {},
   "outputs": [],
   "source": [
    "class Animal:\n",
    "    def __init__(self, name):\n",
    "        self.name = name\n",
    "        \n",
    "    def eat(self):\n",
    "        print(f'{self.name} eating')\n",
    "    \n",
    "    def sleep(self):\n",
    "        print(f'{self.name} sleeping')\n",
    "\n",
    "class Dog(Animal):\n",
    "    \n",
    "    def speak(self):\n",
    "        print('WOOF!')\n",
    "        \n",
    "class Cat(Animal):\n",
    "    \n",
    "    def speak(self):\n",
    "        print('Meow!')\n",
    "        "
   ]
  },
  {
   "cell_type": "code",
   "execution_count": null,
   "id": "307dbf58",
   "metadata": {},
   "outputs": [],
   "source": [
    "d = Dog('Spike')\n",
    "c = Cat('Tom')\n",
    "d.speak()\n",
    "d.eat()\n",
    "c.sleep()"
   ]
  },
  {
   "cell_type": "markdown",
   "id": "076edd7c",
   "metadata": {},
   "source": [
    "### Multiple inheritance\n",
    "  * more than one parent at the same time\n",
    "  \n",
    "### Multi-level inheritance\n",
    "  * a class is a subclass of a subclass of a subclass ...."
   ]
  },
  {
   "cell_type": "code",
   "execution_count": null,
   "id": "3c854b10",
   "metadata": {},
   "outputs": [],
   "source": [
    "class Prey(Animal):\n",
    "    def flee(self):\n",
    "        print(f'{self.name} is fleeing')\n",
    "\n",
    "class Predator(Animal):\n",
    "    def hunt(self):\n",
    "        print(f'{self.name} is hunting')\n",
    "        \n",
    "\n",
    "class Rabbit(Prey):\n",
    "    pass\n",
    "\n",
    "class Fish(Prey, Predator):\n",
    "    pass\n",
    "\n",
    "r = Rabbit('Bunny')\n",
    "f = Fish('Nemo')\n",
    "r.eat()\n",
    "r.flee()\n",
    "f.sleep()\n",
    "f.flee()\n",
    "f.hunt()"
   ]
  },
  {
   "cell_type": "code",
   "execution_count": null,
   "id": "15d3de41",
   "metadata": {},
   "outputs": [],
   "source": [
    "class A:\n",
    "    a = 42\n",
    "    \n",
    "class B(A):\n",
    "    a = 13\n",
    "    \n",
    "class C(B):\n",
    "    a = 10\n",
    "    \n",
    "class D(C, B):\n",
    "    pass\n",
    "\n",
    "d = D()\n",
    "print(d.a)"
   ]
  },
  {
   "cell_type": "code",
   "execution_count": null,
   "id": "01a4ccd4",
   "metadata": {},
   "outputs": [],
   "source": [
    "class E(B, C):\n",
    "    pass"
   ]
  },
  {
   "cell_type": "markdown",
   "id": "d6a86096",
   "metadata": {},
   "source": [
    "### Abstract classes\n",
    "   * cannot be instantiated. Needs to be subclassed\n",
    "   * prevents instatiation of the class\n",
    "   * requires implementation of methods (\"interfaces\"?)"
   ]
  },
  {
   "cell_type": "code",
   "execution_count": null,
   "id": "373f4854",
   "metadata": {},
   "outputs": [],
   "source": [
    "from abc import ABC, abstractmethod\n",
    "\n",
    "class Animal(ABC):\n",
    "    @abstractmethod\n",
    "    def speak(self):\n",
    "        pass\n",
    "    \n",
    "class Dog(Animal):\n",
    "    def __init__(self, name):\n",
    "        self.name = name\n",
    "        \n",
    "    def eat(self):\n",
    "        print('eating')"
   ]
  },
  {
   "cell_type": "code",
   "execution_count": null,
   "id": "513c9cbf",
   "metadata": {},
   "outputs": [],
   "source": [
    "d = Dog('Spike')"
   ]
  },
  {
   "cell_type": "code",
   "execution_count": null,
   "id": "b8382bb8",
   "metadata": {},
   "outputs": [],
   "source": [
    "class Dog(Animal):\n",
    "    def __init__(self, name):\n",
    "        self.name = name\n",
    "        \n",
    "    def eat(self):\n",
    "        print('eating')\n",
    "    \n",
    "    def speak(self):\n",
    "        print('WOOF!')"
   ]
  },
  {
   "cell_type": "code",
   "execution_count": null,
   "id": "0bf3ec40",
   "metadata": {},
   "outputs": [],
   "source": [
    "d = Dog('Spike')\n",
    "d.speak()"
   ]
  },
  {
   "cell_type": "markdown",
   "id": "235b8506",
   "metadata": {},
   "source": [
    "### super()\n",
    "  * extend functionality"
   ]
  },
  {
   "cell_type": "code",
   "execution_count": null,
   "id": "d6d11174",
   "metadata": {},
   "outputs": [],
   "source": [
    "class Circle:\n",
    "    def __init__(self, color, is_filled, radius):\n",
    "        self.color = color\n",
    "        self.is_filled = is_filled\n",
    "        self.radius = radius\n",
    "        \n",
    "class Square:\n",
    "    def __init__(self, color, is_filled, width):\n",
    "        self.color = color\n",
    "        self.is_filled = is_filled\n",
    "        self.width = width\n",
    "        \n",
    "class Triangle:\n",
    "    def __init__(self, color, is_filled, width, height):\n",
    "        self.color = color\n",
    "        self.is_filled = is_filled\n",
    "        self.width = width\n",
    "        self.height = height"
   ]
  },
  {
   "cell_type": "code",
   "execution_count": null,
   "id": "89246da4",
   "metadata": {},
   "outputs": [],
   "source": [
    "class Shape:\n",
    "    def __init__(self, color, is_filled):\n",
    "        self.color = color\n",
    "        self.is_filled = is_filled\n",
    "        \n",
    "class Circle(Shape):\n",
    "    def __init__(self, color, is_filled, radius):\n",
    "        super().__init__(color, is_filled)\n",
    "        self.radius = radius\n",
    "        \n",
    "class Square(Shape):\n",
    "    def __init__(self, color, is_filled, width):\n",
    "        super().__init__(color, is_filled)\n",
    "        self.width = width"
   ]
  },
  {
   "cell_type": "code",
   "execution_count": null,
   "id": "3a6e8183",
   "metadata": {},
   "outputs": [],
   "source": [
    "s = Square('red', True, 10)\n",
    "s.is_filled"
   ]
  },
  {
   "cell_type": "code",
   "execution_count": null,
   "id": "6d0a0709",
   "metadata": {},
   "outputs": [],
   "source": [
    "class Shape(ABC):\n",
    "    def __init__(self, color, is_filled):\n",
    "        self.color = color\n",
    "        self.is_filled = is_filled\n",
    "    \n",
    "    @abstractmethod\n",
    "    def area(self):\n",
    "        pass\n",
    "\n",
    "class Square(Shape):\n",
    "    def __init__(self, color, is_filled, width):\n",
    "        super().__init__(color, is_filled)\n",
    "        self.width = width\n",
    "    \n",
    "    def area(self):\n",
    "        return self.width ** 2"
   ]
  },
  {
   "cell_type": "code",
   "execution_count": null,
   "id": "7e0f1602",
   "metadata": {},
   "outputs": [],
   "source": [
    "s = Square('red', False, 10)\n",
    "s.area()"
   ]
  },
  {
   "cell_type": "code",
   "execution_count": null,
   "id": "00852cbb",
   "metadata": {},
   "outputs": [],
   "source": [
    "class Shape():\n",
    "    def __init__(self, color, is_filled):\n",
    "        self.color = color\n",
    "        self.is_filled = is_filled\n",
    "    \n",
    "    def area(self):\n",
    "        raise NotImplementedError\n",
    "        \n",
    "    def describe(self):\n",
    "        print(f\"color is {self.color} and it is {'filled' if self.is_filled else 'not filled'}\")\n",
    "\n",
    "class Square(Shape):\n",
    "    def __init__(self, color, is_filled, width):\n",
    "        super().__init__(color, is_filled)\n",
    "        self.width = width\n",
    "    \n",
    "    def area(self):\n",
    "        return self.width ** 2\n",
    "\n",
    "    def describe(self):\n",
    "        print('Square of area {self.area}')\n",
    "        super().describe()"
   ]
  },
  {
   "cell_type": "code",
   "execution_count": null,
   "id": "ee1d9154",
   "metadata": {},
   "outputs": [],
   "source": [
    "s = Square('red', True, 10)\n",
    "s.describe()"
   ]
  },
  {
   "cell_type": "code",
   "execution_count": null,
   "id": "32ba929d",
   "metadata": {},
   "outputs": [],
   "source": [
    "class Rectangle(Shape):\n",
    "    def __init__(self, color, is_filled, width, height):\n",
    "        super().__init__(color, is_filled)\n",
    "        self.width = width\n",
    "        self.height = height\n",
    "    "
   ]
  },
  {
   "cell_type": "code",
   "execution_count": null,
   "id": "3e056f3a",
   "metadata": {},
   "outputs": [],
   "source": [
    "r = Rectangle('blue', False, 10, 5)\n",
    "r.area()"
   ]
  },
  {
   "cell_type": "markdown",
   "id": "3c8b9ba1",
   "metadata": {},
   "source": [
    "### Polymorphism\n",
    "  * greek for many \"shapes\""
   ]
  },
  {
   "cell_type": "code",
   "execution_count": null,
   "id": "6d7b7488",
   "metadata": {},
   "outputs": [],
   "source": [
    "class Shape(ABC):\n",
    "    \n",
    "    @abstractmethod\n",
    "    def area(self):\n",
    "        pass\n",
    "        \n",
    "\n",
    "class Square(Shape):\n",
    "    def __init__(self, width):\n",
    "        self.width = width\n",
    "    \n",
    "    def area(self):\n",
    "        return self.width ** 2\n",
    "\n",
    "class Circle(Shape):\n",
    "    def __init__(self, radius):\n",
    "        self.radius = radius\n",
    "    \n",
    "    def area(self):\n",
    "        return 3.14 * self.radius ** 2 \n",
    "    \n",
    "shapes = [Square(10), Circle(5)]\n",
    "for s in shapes:\n",
    "    print(s.area())"
   ]
  },
  {
   "cell_type": "code",
   "execution_count": null,
   "id": "b5743ca9",
   "metadata": {},
   "outputs": [],
   "source": [
    "class Pizza:\n",
    "    def __init__(self, topping, radius):\n",
    "        self.topping = topping\n",
    "        self.radius = radius"
   ]
  },
  {
   "cell_type": "code",
   "execution_count": null,
   "id": "675b7ba7",
   "metadata": {},
   "outputs": [],
   "source": [
    "shapes = [Square(10), Circle(5), Pizza('Eggplants', 15)]\n",
    "for s in shapes:\n",
    "    print(s.area())"
   ]
  },
  {
   "cell_type": "code",
   "execution_count": null,
   "id": "1e167527",
   "metadata": {},
   "outputs": [],
   "source": [
    "class Pizza(Circle):\n",
    "    def __init__(self, topping, radius):\n",
    "        super().__init__(radius)\n",
    "        self.topping = topping"
   ]
  },
  {
   "cell_type": "code",
   "execution_count": null,
   "id": "7bee5d41",
   "metadata": {},
   "outputs": [],
   "source": [
    "shapes = [Square(10), Circle(5), Pizza('Eggplants', 15)]\n",
    "for s in shapes:\n",
    "    print(s.area())"
   ]
  },
  {
   "cell_type": "markdown",
   "id": "ca98ed7c",
   "metadata": {},
   "source": [
    "### Duck typing\n",
    "  * polymorphism without subclassing"
   ]
  },
  {
   "cell_type": "code",
   "execution_count": null,
   "id": "038dc046",
   "metadata": {},
   "outputs": [],
   "source": [
    "class Animal:\n",
    "    alive = True\n",
    "    \n",
    "class Dog(Animal):\n",
    "    def speak(self):\n",
    "        print('Woof')\n",
    "\n",
    "class Cat(Animal):\n",
    "    def speak(self):\n",
    "        print('Meow!')\n",
    "\n",
    "for a in [Dog(), Cat()]:\n",
    "    a.speak()"
   ]
  },
  {
   "cell_type": "code",
   "execution_count": null,
   "id": "4d97043a",
   "metadata": {},
   "outputs": [],
   "source": [
    "class Car:\n",
    "    def horn(self):\n",
    "        print('hoonk!')"
   ]
  },
  {
   "cell_type": "code",
   "execution_count": null,
   "id": "aa70b487",
   "metadata": {},
   "outputs": [],
   "source": [
    "class Car:\n",
    "    def speak(self):\n",
    "        print('hoonk!')"
   ]
  },
  {
   "cell_type": "code",
   "execution_count": null,
   "id": "90f98e16",
   "metadata": {},
   "outputs": [],
   "source": [
    "for a in [Dog(), Cat(), Car()]:\n",
    "    a.speak()"
   ]
  },
  {
   "cell_type": "markdown",
   "id": "28e5207b",
   "metadata": {},
   "source": [
    "### Aggregation\n",
    "    * One object contains references to independent objects"
   ]
  },
  {
   "cell_type": "code",
   "execution_count": null,
   "id": "b28bafd0",
   "metadata": {},
   "outputs": [],
   "source": [
    "class Book:\n",
    "    def __init__(self, author, title):\n",
    "        self.author = author\n",
    "        self.title = title\n",
    "        \n",
    "    def __str__(self):\n",
    "        return f\"{self.author}: {self.title}\"\n",
    "\n",
    "class Library:\n",
    "    def __init__(self, name):\n",
    "        self.name = name\n",
    "        self.books = []\n",
    "        \n",
    "    def add_book(self, book):\n",
    "        self.books.append(book)\n",
    "    \n",
    "    def __str__(self):\n",
    "        return f\"{self.name} Library with {len(self.books)} books\"\n",
    "    \n",
    "    def get_catalog(self):\n",
    "        for book in self.books:\n",
    "            print(book)"
   ]
  },
  {
   "cell_type": "markdown",
   "id": "fcdd7924",
   "metadata": {},
   "source": [
    "### Composition\n",
    "  * the composed object directly OWNS its components which cannot exist independently"
   ]
  },
  {
   "cell_type": "code",
   "execution_count": null,
   "id": "c686ab51",
   "metadata": {},
   "outputs": [],
   "source": [
    "class Engine:\n",
    "    def __init__(self, hp):\n",
    "        self.hp = hp\n",
    "        \n",
    "class Wheel:\n",
    "    def __init__(self, size):\n",
    "        self.size = size\n",
    "        \n",
    "class Car:\n",
    "    def __init__(self, make, model, hp, wheel_size):\n",
    "        self.make = make\n",
    "        self.model = model\n",
    "        self.engine = Engine(hp)\n",
    "        self.wheels = [Wheel(wheel_size) for _ in range(4)]\n",
    "        \n",
    "    def __str__(self):\n",
    "        return f'''{self.make}-{self.model} with {self.engine.hp} HP \n",
    "        and {len(self.wheels)} wheels of size {self.wheels[0].size}'''"
   ]
  },
  {
   "cell_type": "markdown",
   "id": "7f1b1d83",
   "metadata": {},
   "source": [
    "### Static methods\n",
    "   * belongs to the class. general utility"
   ]
  },
  {
   "cell_type": "code",
   "execution_count": null,
   "id": "e124f48e",
   "metadata": {},
   "outputs": [],
   "source": [
    "class Employee:\n",
    "    def __init__(self, name, pos):\n",
    "        self.name = name\n",
    "        self.pos = pos\n",
    "        \n",
    "    def get_info(self):\n",
    "        print(f'{self.name}, {self.pos}')\n",
    "        \n",
    "    @staticmethod\n",
    "    def is_valid_position(position):\n",
    "        return position in ['eng', 'hr', 'comm']"
   ]
  },
  {
   "cell_type": "code",
   "execution_count": null,
   "id": "d269ee54",
   "metadata": {},
   "outputs": [],
   "source": [
    "e = Employee('Alice', 'eng')\n",
    "e.get_info()"
   ]
  },
  {
   "cell_type": "code",
   "execution_count": null,
   "id": "3a2a83f6",
   "metadata": {},
   "outputs": [],
   "source": [
    "Employee.is_valid_position('cook')"
   ]
  },
  {
   "cell_type": "markdown",
   "id": "b1bbaf7a",
   "metadata": {},
   "source": [
    "### Class methods\n",
    "   * operation to the class itself"
   ]
  },
  {
   "cell_type": "code",
   "execution_count": null,
   "id": "7fd520ff",
   "metadata": {},
   "outputs": [],
   "source": [
    "class Student:\n",
    "    count = 0\n",
    "    total_gpa = 0\n",
    "    \n",
    "    def __init__(self, name, gpa):\n",
    "        self.name = name\n",
    "        self.gpa = gpa\n",
    "        Student.count += 1\n",
    "        Student.total_gpa += gpa\n",
    "        \n",
    "    def get_info(self):\n",
    "        print(f'{self.name}, {self.gpa}')\n",
    "        \n",
    "    @classmethod\n",
    "    def get_avg_gpa(cls):\n",
    "        return cls.total_gpa / cls.count"
   ]
  },
  {
   "cell_type": "code",
   "execution_count": null,
   "id": "b9edc73b",
   "metadata": {},
   "outputs": [],
   "source": [
    "course = [Student('Alice', 3.9), Student('Bob', 3.2)]\n",
    "print(Student.get_avg_gpa())"
   ]
  },
  {
   "cell_type": "markdown",
   "id": "625adf8d",
   "metadata": {},
   "source": [
    "### Magic methods\n",
    "   * dunder methods\n",
    "   * automatically called by builtins"
   ]
  },
  {
   "cell_type": "code",
   "execution_count": null,
   "id": "5d1fae84",
   "metadata": {},
   "outputs": [],
   "source": [
    "class Student:\n",
    "    def __init__(self, name, gpa):\n",
    "        self.name = name\n",
    "        self.gpa = gpa\n",
    "        \n",
    "    def __eq__(self, other):\n",
    "        return (self.name == other.name) and (self.gpa == other.gpa)\n",
    "    \n",
    "    def __gt__(self, other):\n",
    "        return self.gpa > other.gpa\n",
    "    \n",
    "s1 = Student('Alice', 3.2)\n",
    "s2 = Student('Bob', 3)"
   ]
  },
  {
   "cell_type": "code",
   "execution_count": null,
   "id": "b2c90175",
   "metadata": {},
   "outputs": [],
   "source": [
    "s1 > s2"
   ]
  },
  {
   "cell_type": "code",
   "execution_count": null,
   "id": "7138d93f",
   "metadata": {},
   "outputs": [],
   "source": [
    "class Course:\n",
    "    def __init__(self, name):\n",
    "        self.name = name\n",
    "        self.students = []\n",
    "    \n",
    "    def add_student(self, student):\n",
    "        self.students.append(student)\n",
    "        \n",
    "    def __iter__(self):\n",
    "        for student in self.students:\n",
    "            yield student\n",
    "            \n",
    "    def __add__(self, other):\n",
    "        for s in other:\n",
    "            self.add_student(s)\n",
    "        return self\n",
    "    \n",
    "    def __contains__(self, name):\n",
    "        return name in [s.name for s in self.students]\n",
    "    \n",
    "    def __getitem__(self, name):\n",
    "        for s in self.students:\n",
    "            if s.name == name:\n",
    "                return s\n",
    "            "
   ]
  },
  {
   "cell_type": "code",
   "execution_count": null,
   "id": "30b0d25e",
   "metadata": {},
   "outputs": [],
   "source": [
    "c = Course('BA')\n",
    "c.add_student(s1)\n",
    "c.add_student(s2)"
   ]
  },
  {
   "cell_type": "code",
   "execution_count": null,
   "id": "666e734c",
   "metadata": {},
   "outputs": [],
   "source": [
    "for student in c:\n",
    "    print(student.name, student.gpa)"
   ]
  },
  {
   "cell_type": "code",
   "execution_count": null,
   "id": "5e913eed",
   "metadata": {},
   "outputs": [],
   "source": [
    "s3 = Student('Mike', 4.0)\n",
    "c1 = Course('BA2')\n",
    "c1.add_student(s3)"
   ]
  },
  {
   "cell_type": "code",
   "execution_count": null,
   "id": "b84a3f8a",
   "metadata": {},
   "outputs": [],
   "source": [
    "newcourse = c + c1"
   ]
  },
  {
   "cell_type": "code",
   "execution_count": null,
   "id": "80ce4f6c",
   "metadata": {},
   "outputs": [],
   "source": [
    "for s in newcourse:\n",
    "    print(s.name)"
   ]
  },
  {
   "cell_type": "code",
   "execution_count": null,
   "id": "03d2dff8",
   "metadata": {},
   "outputs": [],
   "source": [
    "'Mike' in newcourse"
   ]
  },
  {
   "cell_type": "code",
   "execution_count": null,
   "id": "6bd3af38",
   "metadata": {},
   "outputs": [],
   "source": [
    "s = newcourse['Mike']"
   ]
  },
  {
   "cell_type": "code",
   "execution_count": null,
   "id": "c432803e",
   "metadata": {},
   "outputs": [],
   "source": [
    "type(s)"
   ]
  },
  {
   "cell_type": "code",
   "execution_count": null,
   "id": "3cb62f72",
   "metadata": {},
   "outputs": [],
   "source": [
    "s.gpa"
   ]
  },
  {
   "cell_type": "markdown",
   "id": "f8aed8b9",
   "metadata": {},
   "source": [
    "### Properties\n",
    "   * add additional logic to attributes"
   ]
  },
  {
   "cell_type": "code",
   "execution_count": null,
   "id": "ddffe8ae",
   "metadata": {},
   "outputs": [],
   "source": [
    "class Dog:\n",
    "    def __init__(self, name, age):\n",
    "        self.name = name\n",
    "        self.age = age"
   ]
  },
  {
   "cell_type": "code",
   "execution_count": null,
   "id": "6973d745",
   "metadata": {},
   "outputs": [],
   "source": [
    "d = Dog('Spike', 3)\n",
    "d.age"
   ]
  },
  {
   "cell_type": "code",
   "execution_count": null,
   "id": "01a1cb94",
   "metadata": {},
   "outputs": [],
   "source": [
    "class Dog:\n",
    "    def __init__(self, name, age):\n",
    "        self._name = name\n",
    "        self._age = age\n",
    "    \n",
    "    @property\n",
    "    def name(self):\n",
    "        return self._name\n",
    "    \n",
    "    @property\n",
    "    def age(self):\n",
    "        return self._age"
   ]
  },
  {
   "cell_type": "code",
   "execution_count": null,
   "id": "87d51077",
   "metadata": {},
   "outputs": [],
   "source": [
    "d = Dog('Spike', 7)"
   ]
  },
  {
   "cell_type": "code",
   "execution_count": null,
   "id": "62829bf6",
   "metadata": {},
   "outputs": [],
   "source": [
    "d.name"
   ]
  },
  {
   "cell_type": "code",
   "execution_count": null,
   "id": "8f6c4e9d",
   "metadata": {},
   "outputs": [],
   "source": [
    "d._name"
   ]
  },
  {
   "cell_type": "code",
   "execution_count": null,
   "id": "f27f691f",
   "metadata": {},
   "outputs": [],
   "source": [
    "class Dog:\n",
    "    def __init__(self, name, age):\n",
    "        self._name = name\n",
    "        self._age = age\n",
    "    \n",
    "    @property\n",
    "    def name(self):\n",
    "        return self._name\n",
    "    \n",
    "    @property\n",
    "    def age(self):\n",
    "        return self._age\n",
    "    \n",
    "    @age.setter\n",
    "    def age(self, new_age):\n",
    "        if new_age > 0:\n",
    "            self._age = new_age\n",
    "        else:\n",
    "            print('Nope')"
   ]
  },
  {
   "cell_type": "code",
   "execution_count": null,
   "id": "fbcd3cd1",
   "metadata": {},
   "outputs": [],
   "source": [
    "d = Dog('Spike', 7)"
   ]
  },
  {
   "cell_type": "code",
   "execution_count": null,
   "id": "859ce099",
   "metadata": {},
   "outputs": [],
   "source": [
    "d.age = 0"
   ]
  },
  {
   "cell_type": "code",
   "execution_count": null,
   "id": "5c69a02b",
   "metadata": {},
   "outputs": [],
   "source": [
    "d.age"
   ]
  },
  {
   "cell_type": "code",
   "execution_count": null,
   "id": "9efc950b",
   "metadata": {},
   "outputs": [],
   "source": [
    "import time\n",
    "import random\n",
    "from functools import wraps\n",
    "\n",
    "def timeit(func):\n",
    "    @wraps(func)\n",
    "    def wrapper(*args, **kwargs):\n",
    "        s = time.time()\n",
    "        res = func(*args, **kwargs)\n",
    "        print(f'Done in {time.time() - s} secs')\n",
    "        return res\n",
    "    return wrapper\n",
    "\n",
    "@timeit\n",
    "def func():\n",
    "    \"\"\"\n",
    "    This function is very important\n",
    "    \"\"\"\n",
    "    time.sleep(random.randint(0,5))\n",
    "    \n",
    "\n",
    "func()"
   ]
  },
  {
   "cell_type": "code",
   "execution_count": null,
   "id": "f389782c",
   "metadata": {},
   "outputs": [],
   "source": [
    "help(func)"
   ]
  }
 ],
 "metadata": {
  "kernelspec": {
   "display_name": "Python 3 (ipykernel)",
   "language": "python",
   "name": "python3"
  },
  "language_info": {
   "codemirror_mode": {
    "name": "ipython",
    "version": 3
   },
   "file_extension": ".py",
   "mimetype": "text/x-python",
   "name": "python",
   "nbconvert_exporter": "python",
   "pygments_lexer": "ipython3",
   "version": "3.10.1"
  }
 },
 "nbformat": 4,
 "nbformat_minor": 5
}
